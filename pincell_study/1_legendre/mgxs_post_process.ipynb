{
 "cells": [
  {
   "cell_type": "code",
   "execution_count": 3,
   "id": "4ca83729-56d3-4e6b-9f91-027f6d3d6943",
   "metadata": {},
   "outputs": [],
   "source": [
    "import sys\n",
    "import os \n",
    "import openmc\n",
    "import numpy as np\n",
    "import matplotlib.pyplot as plt\n",
    "import openmc.mgxs as mgxs\n",
    "import pandas as pd\n",
    "from IPython.display import Image\n",
    "import glob"
   ]
  },
  {
   "cell_type": "markdown",
   "id": "7c208c33-a3cc-4715-88d2-50a9afc179fa",
   "metadata": {},
   "source": [
    "### Import Output datas"
   ]
  },
  {
   "cell_type": "code",
   "execution_count": 10,
   "id": "ac6a8f55-2a50-4be3-a8a5-c8f64d5185cb",
   "metadata": {},
   "outputs": [],
   "source": [
    "def load_mgxs(sp_file_path,sm_file_path,model_file_path):\n",
    "    sm=openmc.Summary(sm_file_path)\n",
    "    sp = openmc.StatePoint(sp_file_path)\n",
    "    sp.link_with_summary(sm)\n",
    "    model=openmc.model.Model\n",
    "    model=openmc.model.Model.from_model_xml(model_file_path)\n",
    "    mgxs_lib = openmc.mgxs.Library(model.geometry)\n",
    "    groups = openmc.mgxs.EnergyGroups(openmc.mgxs.GROUP_STRUCTURES['XMAS-172'])\n",
    "    mgxs_lib.energy_groups = groups\n",
    "    mgxs_lib.scatter_format = \"legendre\"\n",
    "    mgxs_lib.legendre_order = 1\n",
    "    mgxs_lib.mgxs_types = ['total', 'absorption', 'nu-fission', 'fission' ,'chi', 'consistent nu-scatter matrix', 'multiplicity matrix']\n",
    "    mgxs_lib.by_nuclide = False\n",
    "    mgxs_lib.domain_type = 'cell'\n",
    "    mgxs_lib.domains = model.geometry.get_all_material_cells().values()\n",
    "    mgxs_lib.build_library()\n",
    "    mgxs_lib.load_from_statepoint(sp)\n",
    "    return(mgxs_lib)"
   ]
  },
  {
   "cell_type": "code",
   "execution_count": 13,
   "id": "0e73644f-6a21-4123-85ff-1ca450011b09",
   "metadata": {
    "scrolled": true
   },
   "outputs": [
    {
     "name": "stderr",
     "output_type": "stream",
     "text": [
      "/opt/anaconda3/envs/openmc-env/lib/python3.12/site-packages/openmc/mixin.py:70: IDWarning: Another Material instance already exists with id=4.\n",
      "  warn(msg, IDWarning)\n",
      "/opt/anaconda3/envs/openmc-env/lib/python3.12/site-packages/openmc/mixin.py:70: IDWarning: Another Material instance already exists with id=5.\n",
      "  warn(msg, IDWarning)\n",
      "/opt/anaconda3/envs/openmc-env/lib/python3.12/site-packages/openmc/mixin.py:70: IDWarning: Another Material instance already exists with id=6.\n",
      "  warn(msg, IDWarning)\n",
      "/opt/anaconda3/envs/openmc-env/lib/python3.12/site-packages/openmc/mixin.py:70: IDWarning: Another Surface instance already exists with id=7.\n",
      "  warn(msg, IDWarning)\n",
      "/opt/anaconda3/envs/openmc-env/lib/python3.12/site-packages/openmc/mixin.py:70: IDWarning: Another Surface instance already exists with id=8.\n",
      "  warn(msg, IDWarning)\n",
      "/opt/anaconda3/envs/openmc-env/lib/python3.12/site-packages/openmc/mixin.py:70: IDWarning: Another Surface instance already exists with id=9.\n",
      "  warn(msg, IDWarning)\n",
      "/opt/anaconda3/envs/openmc-env/lib/python3.12/site-packages/openmc/mixin.py:70: IDWarning: Another Surface instance already exists with id=10.\n",
      "  warn(msg, IDWarning)\n",
      "/opt/anaconda3/envs/openmc-env/lib/python3.12/site-packages/openmc/mixin.py:70: IDWarning: Another Surface instance already exists with id=11.\n",
      "  warn(msg, IDWarning)\n",
      "/opt/anaconda3/envs/openmc-env/lib/python3.12/site-packages/openmc/mixin.py:70: IDWarning: Another Surface instance already exists with id=12.\n",
      "  warn(msg, IDWarning)\n",
      "/opt/anaconda3/envs/openmc-env/lib/python3.12/site-packages/openmc/mixin.py:70: IDWarning: Another Cell instance already exists with id=4.\n",
      "  warn(msg, IDWarning)\n",
      "/opt/anaconda3/envs/openmc-env/lib/python3.12/site-packages/openmc/mixin.py:70: IDWarning: Another UniverseBase instance already exists with id=2.\n",
      "  warn(msg, IDWarning)\n",
      "/opt/anaconda3/envs/openmc-env/lib/python3.12/site-packages/openmc/mixin.py:70: IDWarning: Another Cell instance already exists with id=5.\n",
      "  warn(msg, IDWarning)\n",
      "/opt/anaconda3/envs/openmc-env/lib/python3.12/site-packages/openmc/mixin.py:70: IDWarning: Another Cell instance already exists with id=6.\n",
      "  warn(msg, IDWarning)\n",
      "/opt/anaconda3/envs/openmc-env/lib/python3.12/site-packages/openmc/mixin.py:70: IDWarning: Another Filter instance already exists with id=165.\n",
      "  warn(msg, IDWarning)\n",
      "/opt/anaconda3/envs/openmc-env/lib/python3.12/site-packages/openmc/mixin.py:70: IDWarning: Another Filter instance already exists with id=88.\n",
      "  warn(msg, IDWarning)\n",
      "/opt/anaconda3/envs/openmc-env/lib/python3.12/site-packages/openmc/mixin.py:70: IDWarning: Another Filter instance already exists with id=97.\n",
      "  warn(msg, IDWarning)\n",
      "/opt/anaconda3/envs/openmc-env/lib/python3.12/site-packages/openmc/mixin.py:70: IDWarning: Another Filter instance already exists with id=96.\n",
      "  warn(msg, IDWarning)\n",
      "/opt/anaconda3/envs/openmc-env/lib/python3.12/site-packages/openmc/mixin.py:70: IDWarning: Another Filter instance already exists with id=101.\n",
      "  warn(msg, IDWarning)\n",
      "/opt/anaconda3/envs/openmc-env/lib/python3.12/site-packages/openmc/mixin.py:70: IDWarning: Another Tally instance already exists with id=176.\n",
      "  warn(msg, IDWarning)\n",
      "/opt/anaconda3/envs/openmc-env/lib/python3.12/site-packages/openmc/mixin.py:70: IDWarning: Another Tally instance already exists with id=169.\n",
      "  warn(msg, IDWarning)\n",
      "/opt/anaconda3/envs/openmc-env/lib/python3.12/site-packages/openmc/mixin.py:70: IDWarning: Another Tally instance already exists with id=170.\n",
      "  warn(msg, IDWarning)\n",
      "/opt/anaconda3/envs/openmc-env/lib/python3.12/site-packages/openmc/mixin.py:70: IDWarning: Another Tally instance already exists with id=177.\n",
      "  warn(msg, IDWarning)\n",
      "/opt/anaconda3/envs/openmc-env/lib/python3.12/site-packages/openmc/mixin.py:70: IDWarning: Another Tally instance already exists with id=182.\n",
      "  warn(msg, IDWarning)\n",
      "/opt/anaconda3/envs/openmc-env/lib/python3.12/site-packages/openmc/mgxs/library.py:401: RuntimeWarning: The P0 correction will be ignored since the scattering order 1 is greater than zero\n",
      "  warn(msg, RuntimeWarning)\n"
     ]
    }
   ],
   "source": [
    "sp_order7_path='/Users/pablogarcia44/repo/Garcia_OpenSn/pincell_study/legendre/order7/sp_order7.h5'\n",
    "sm_order7_path='/Users/pablogarcia44/repo/Garcia_OpenSn/pincell_study/legendre/order7/sm_order7.h5'\n",
    "model_order7_path='/Users/pablogarcia44/repo/Garcia_OpenSn/pincell_study/legendre/order7/model_order7.xml'\n",
    "mgxs_lib_order7=load_mgxs(sp_order7_path,sm_order7_path,model_order7_path)\n",
    "mgxs_lib_order7 = mgxs_lib_order1.create_mg_library(xs_type='macro', xsdata_names=['fuel', 'clad', 'moderator'])\n",
    "mgxs_lib_order7.xsdatas[0].temperatures=[565.]\n",
    "mgxs_lib_order7.xsdatas[1].temperatures=[565.]\n",
    "mgxs_lib_order7.xsdatas[2].temperatures=[565.]\n",
    "mgxs_lib_order7.export_to_hdf5('mgxs_order7.h5')\n"
   ]
  },
  {
   "cell_type": "code",
   "execution_count": null,
   "id": "2dc43d86-91ad-4596-9416-cbc3a5188da3",
   "metadata": {},
   "outputs": [],
   "source": []
  }
 ],
 "metadata": {
  "kernelspec": {
   "display_name": "Python 3 (ipykernel)",
   "language": "python",
   "name": "python3"
  },
  "language_info": {
   "codemirror_mode": {
    "name": "ipython",
    "version": 3
   },
   "file_extension": ".py",
   "mimetype": "text/x-python",
   "name": "python",
   "nbconvert_exporter": "python",
   "pygments_lexer": "ipython3",
   "version": "3.12.3"
  }
 },
 "nbformat": 4,
 "nbformat_minor": 5
}

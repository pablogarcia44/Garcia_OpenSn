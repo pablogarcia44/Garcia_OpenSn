{
 "cells": [
  {
   "cell_type": "code",
   "execution_count": 3,
   "id": "4ca83729-56d3-4e6b-9f91-027f6d3d6943",
   "metadata": {},
   "outputs": [],
   "source": [
    "import sys\n",
    "import os \n",
    "import openmc\n",
    "import numpy as np\n",
    "import matplotlib.pyplot as plt\n",
    "import openmc.mgxs as mgxs\n",
    "import pandas as pd\n",
    "from IPython.display import Image\n",
    "import glob"
   ]
  },
  {
   "cell_type": "markdown",
   "id": "7c208c33-a3cc-4715-88d2-50a9afc179fa",
   "metadata": {},
   "source": [
    "### Import Output datas"
   ]
  },
  {
   "cell_type": "code",
   "execution_count": 10,
   "id": "ac6a8f55-2a50-4be3-a8a5-c8f64d5185cb",
   "metadata": {},
   "outputs": [],
   "source": [
    "def load_mgxs(sp_file_path,sm_file_path,model_file_path):\n",
    "    sm=openmc.Summary(sm_file_path)\n",
    "    sp = openmc.StatePoint(sp_file_path)\n",
    "    sp.link_with_summary(sm)\n",
    "    model=openmc.model.Model\n",
    "    model=openmc.model.Model.from_model_xml(model_file_path)\n",
    "    mgxs_lib = openmc.mgxs.Library(model.geometry)\n",
    "    groups = openmc.mgxs.EnergyGroups(openmc.mgxs.GROUP_STRUCTURES['XMAS-172'])\n",
    "    mgxs_lib.energy_groups = groups\n",
    "    mgxs_lib.scatter_format = \"legendre\"\n",
    "    mgxs_lib.legendre_order = 1\n",
    "    mgxs_lib.mgxs_types = ['total', 'absorption', 'nu-fission', 'fission' ,'chi', 'consistent nu-scatter matrix', 'multiplicity matrix']\n",
    "    mgxs_lib.by_nuclide = False\n",
    "    mgxs_lib.domain_type = 'cell'\n",
    "    mgxs_lib.domains = model.geometry.get_all_material_cells().values()\n",
    "    mgxs_lib.build_library()\n",
    "    mgxs_lib.load_from_statepoint(sp)\n",
    "    return(mgxs_lib)"
   ]
  },
  {
   "cell_type": "code",
   "execution_count": 13,
   "id": "0e73644f-6a21-4123-85ff-1ca450011b09",
   "metadata": {
    "scrolled": true
   },
   "outputs": [
    {
     "name": "stderr",
     "output_type": "stream",
     "text": [
      "/opt/anaconda3/envs/openmc-env/lib/python3.12/site-packages/openmc/mixin.py:70: IDWarning: Another Material instance already exists with id=4.\n",
      "  warn(msg, IDWarning)\n",
      "/opt/anaconda3/envs/openmc-env/lib/python3.12/site-packages/openmc/mixin.py:70: IDWarning: Another Material instance already exists with id=5.\n",
      "  warn(msg, IDWarning)\n",
      "/opt/anaconda3/envs/openmc-env/lib/python3.12/site-packages/openmc/mixin.py:70: IDWarning: Another Material instance already exists with id=6.\n",
      "  warn(msg, IDWarning)\n",
      "/opt/anaconda3/envs/openmc-env/lib/python3.12/site-packages/openmc/mixin.py:70: IDWarning: Another Surface instance already exists with id=7.\n",
      "  warn(msg, IDWarning)\n",
      "/opt/anaconda3/envs/openmc-env/lib/python3.12/site-packages/openmc/mixin.py:70: IDWarning: Another Surface instance already exists with id=8.\n",
      "  warn(msg, IDWarning)\n",
      "/opt/anaconda3/envs/openmc-env/lib/python3.12/site-packages/openmc/mixin.py:70: IDWarning: Another Surface instance already exists with id=9.\n",
      "  warn(msg, IDWarning)\n",
      "/opt/anaconda3/envs/openmc-env/lib/python3.12/site-packages/openmc/mixin.py:70: IDWarning: Another Surface instance already exists with id=10.\n",
      "  warn(msg, IDWarning)\n",
      "/opt/anaconda3/envs/openmc-env/lib/python3.12/site-packages/openmc/mixin.py:70: IDWarning: Another Surface instance already exists with id=11.\n",
      "  warn(msg, IDWarning)\n",
      "/opt/anaconda3/envs/openmc-env/lib/python3.12/site-packages/openmc/mixin.py:70: IDWarning: Another Surface instance already exists with id=12.\n",
      "  warn(msg, IDWarning)\n",
      "/opt/anaconda3/envs/openmc-env/lib/python3.12/site-packages/openmc/mixin.py:70: IDWarning: Another Cell instance already exists with id=4.\n",
      "  warn(msg, IDWarning)\n",
      "/opt/anaconda3/envs/openmc-env/lib/python3.12/site-packages/openmc/mixin.py:70: IDWarning: Another UniverseBase instance already exists with id=2.\n",
      "  warn(msg, IDWarning)\n",
      "/opt/anaconda3/envs/openmc-env/lib/python3.12/site-packages/openmc/mixin.py:70: IDWarning: Another Cell instance already exists with id=5.\n",
      "  warn(msg, IDWarning)\n",
      "/opt/anaconda3/envs/openmc-env/lib/python3.12/site-packages/openmc/mixin.py:70: IDWarning: Another Cell instance already exists with id=6.\n",
      "  warn(msg, IDWarning)\n",
      "/opt/anaconda3/envs/openmc-env/lib/python3.12/site-packages/openmc/mixin.py:70: IDWarning: Another Filter instance already exists with id=165.\n",
      "  warn(msg, IDWarning)\n",
      "/opt/anaconda3/envs/openmc-env/lib/python3.12/site-packages/openmc/mixin.py:70: IDWarning: Another Filter instance already exists with id=88.\n",
      "  warn(msg, IDWarning)\n",
      "/opt/anaconda3/envs/openmc-env/lib/python3.12/site-packages/openmc/mixin.py:70: IDWarning: Another Filter instance already exists with id=97.\n",
      "  warn(msg, IDWarning)\n",
      "/opt/anaconda3/envs/openmc-env/lib/python3.12/site-packages/openmc/mixin.py:70: IDWarning: Another Filter instance already exists with id=96.\n",
      "  warn(msg, IDWarning)\n",
      "/opt/anaconda3/envs/openmc-env/lib/python3.12/site-packages/openmc/mixin.py:70: IDWarning: Another Filter instance already exists with id=101.\n",
      "  warn(msg, IDWarning)\n",
      "/opt/anaconda3/envs/openmc-env/lib/python3.12/site-packages/openmc/mixin.py:70: IDWarning: Another Tally instance already exists with id=176.\n",
      "  warn(msg, IDWarning)\n",
      "/opt/anaconda3/envs/openmc-env/lib/python3.12/site-packages/openmc/mixin.py:70: IDWarning: Another Tally instance already exists with id=169.\n",
      "  warn(msg, IDWarning)\n",
      "/opt/anaconda3/envs/openmc-env/lib/python3.12/site-packages/openmc/mixin.py:70: IDWarning: Another Tally instance already exists with id=170.\n",
      "  warn(msg, IDWarning)\n",
      "/opt/anaconda3/envs/openmc-env/lib/python3.12/site-packages/openmc/mixin.py:70: IDWarning: Another Tally instance already exists with id=177.\n",
      "  warn(msg, IDWarning)\n",
      "/opt/anaconda3/envs/openmc-env/lib/python3.12/site-packages/openmc/mixin.py:70: IDWarning: Another Tally instance already exists with id=182.\n",
      "  warn(msg, IDWarning)\n",
      "/opt/anaconda3/envs/openmc-env/lib/python3.12/site-packages/openmc/mgxs/library.py:401: RuntimeWarning: The P0 correction will be ignored since the scattering order 1 is greater than zero\n",
      "  warn(msg, RuntimeWarning)\n"
     ]
    }
   ],
   "source": [
    "sp_order1_path='/Users/pablogarcia44/repo/Garcia_OpenSn/pincell_study/legendre/order1/sp_order1.h5'\n",
    "sm_order1_path='/Users/pablogarcia44/repo/Garcia_OpenSn/pincell_study/legendre/order1/sm_order1.h5'\n",
    "model_order1_path='/Users/pablogarcia44/repo/Garcia_OpenSn/pincell_study/legendre/order1/model_order1.xml'\n",
    "mgxs_lib_order1=load_mgxs(sp_order1_path,sm_order1_path,model_order1_path)\n",
    "mgxs_file_order1 = mgxs_lib_order1.create_mg_library(xs_type='macro', xsdata_names=['fuel', 'clad', 'moderator'])\n",
    "mgxs_file_order1.xsdatas[0].temperatures=[565.]\n",
    "mgxs_file_order1.xsdatas[1].temperatures=[565.]\n",
    "mgxs_file_order1.xsdatas[2].temperatures=[565.]\n",
    "mgxs_file_order1.export_to_hdf5('mgxs_order1.h5')\n"
   ]
  },
  {
   "cell_type": "markdown",
   "id": "b08a1257-9f1b-49f5-ad1d-430d84616ef9",
   "metadata": {},
   "source": [
    "### Post Processing"
   ]
  },
  {
   "cell_type": "code",
   "execution_count": 45,
   "id": "fa62a909-811f-48b5-906d-d51ec3bbfc24",
   "metadata": {},
   "outputs": [],
   "source": [
    "def cell_domain(cell,mgxs_lib):\n",
    "    for k in range(len(mgxs_lib.domains)):\n",
    "        if mgxs_lib.domains[k].name==cell:\n",
    "            return(mgxs_lib.domains[k].id)"
   ]
  },
  {
   "cell_type": "code",
   "execution_count": 46,
   "id": "2d2e59fd-5718-46f8-8ff2-5f3325e0812a",
   "metadata": {},
   "outputs": [],
   "source": [
    "def mgxs_value(cell,reaction,mgxs_lib):  \n",
    "    cell_name=cell\n",
    "    cell=cell_domain(cell_name,mgxs_lib)\n",
    "    mgxs_plot = mgxs_lib.get_mgxs(cell,reaction)\n",
    "    mgxs=mgxs_plot.get_pandas_dataframe(xs_type='macro')['mean'].values\n",
    "    return(mgxs)"
   ]
  },
  {
   "cell_type": "code",
   "execution_count": 66,
   "id": "f8d415f9-b2bd-4cca-b7b5-f2cb9d35b551",
   "metadata": {},
   "outputs": [],
   "source": [
    "def rd_max(mgxs1,mgxs2):   \n",
    "    avg=0\n",
    "    index=0\n",
    "    rd_max=0\n",
    "    for i in range (171):\n",
    "        rd1=0\n",
    "        rd2=0\n",
    "        if mgxs1[i]!=0:\n",
    "            rd1=abs(mgxs1[i]-mgxs2[i])/mgxs1[i]\n",
    "        if mgxs2[i]!=0:\n",
    "            rd2=abs(mgxs1[i]-mgxs2[i])/mgxs2[i]\n",
    "        if rd1>rd_max or rd1>rd_max:\n",
    "            rd_max=max(rd1,rd2)\n",
    "            index=i\n",
    "    return(100*rd_max,index)      "
   ]
  },
  {
   "cell_type": "code",
   "execution_count": 69,
   "id": "fb682731-6100-47d9-918d-025c1aeea4ba",
   "metadata": {},
   "outputs": [
    {
     "name": "stdout",
     "output_type": "stream",
     "text": [
      "(9.081669831081102, 79)\n",
      "(3.55279605429432, 64)\n",
      "(7.794569216902131, 79)\n"
     ]
    }
   ],
   "source": [
    "fuel_1=mgxs_value('fuel_1_family','fission',mgxs_lib_1_family)\n",
    "fuel_E=mgxs_value('fuel_E','fission',mgxs_lib_6_families)\n",
    "fuel_C=mgxs_value('fuel_C','fission',mgxs_lib_6_families)\n",
    "fuel_N=mgxs_value('fuel_N','fission',mgxs_lib_6_families)\n",
    "\n",
    "\n",
    "print(rd_max(fuel_N,fuel_C))\n",
    "print(rd_max(fuel_N,fuel_E))\n",
    "print(rd_max(fuel_E,fuel_C))"
   ]
  },
  {
   "cell_type": "code",
   "execution_count": null,
   "id": "407aec4b-b526-4161-abd9-29df86279c6a",
   "metadata": {},
   "outputs": [],
   "source": []
  }
 ],
 "metadata": {
  "kernelspec": {
   "display_name": "Python 3 (ipykernel)",
   "language": "python",
   "name": "python3"
  },
  "language_info": {
   "codemirror_mode": {
    "name": "ipython",
    "version": 3
   },
   "file_extension": ".py",
   "mimetype": "text/x-python",
   "name": "python",
   "nbconvert_exporter": "python",
   "pygments_lexer": "ipython3",
   "version": "3.12.3"
  }
 },
 "nbformat": 4,
 "nbformat_minor": 5
}

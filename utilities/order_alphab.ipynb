{
 "cells": [
  {
   "cell_type": "code",
   "execution_count": 9,
   "id": "fc24d826-329c-4d84-ae94-c8d8a0f79040",
   "metadata": {},
   "outputs": [],
   "source": [
    "\n",
    "    name_mgxs_dict = {\n",
    "        '2A': ['fuel_pincell', 'gap_pincell', 'clad_pincell', 'moderator_pincell', 'water_guide', 'clad_guide', 'moderator_guide', 'water_instru', 'clad_instru', 'moderator_instru', 'water_outside'],\n",
    "        '2B': ['fuel_pincell', 'gap_pincell', 'clad_pincell', 'moderator_pincell', 'water_guide', 'clad_guide', 'moderator_guide', 'water_instru', 'clad_instru', 'moderator_instru', 'water_outside'],\n",
    "        '2C': ['fuel_pincell', 'gap_pincell', 'clad_pincell', 'moderator_pincell', 'water_guide', 'clad_guide', 'moderator_guide', 'water_instru', 'clad_instru', 'moderator_instru', 'water_outside'],\n",
    "        '2D': ['fuel_pincell', 'gap_pincell', 'clad_pincell', 'moderator_pincell', 'water_guide', 'clad_guide', 'moderator_guide', 'water_instru', 'clad_instru', 'moderator_instru', 'water_outside'],\n",
    "        '2E': ['fuel_pincell_1_family', 'gap_pincell_1_family', 'clad_pincell_1_family', 'moderator_pincell_1_family', 'steel_cell_pyrex_1_family', 'gap_cell_pyrex_1_family', 'pyrex_cell_pyrex_1_family', 'water_cell_pyrex_1_family', 'guide_cell_pyrex_1_family', 'water_guide_1_family', 'clad_guide_1_family', 'moderator_guide_1_family', 'water_guide_instru_1_family', 'clad_guide_instru_1_family', 'moderator_instru_1_family', 'water_outside'],\n",
    "        '2F': ['fuel_pincell_1_family', 'gap_pincell_1_family', 'clad_pincell_1_family', 'moderator_pincell_1_family', 'steel_cell_pyrex_1_family', 'gap_cell_pyrex_1_family', 'pyrex_cell_pyrex_1_family', 'water_cell_pyrex_1_family', 'guide_cell_pyrex_1_family', 'water_instru_1_family', 'clad_instru_1_family', 'moderator_instru_1_family', 'water_outside'],\n",
    "        '2G': ['fuel_pincell_1_family', 'gap_pincell_1_family', 'clad_pincell_1_family', 'moderator_pincell_1_family', 'AIC_aic_1_family', 'gap_aic_1_family', 'clad_aic_1_family', 'guide_aic_1_family', 'moderator_aic_1_family', 'water_guide_instru_1_family', 'clad_guide_instru_1_family', 'moderator_instru_1_family', 'water_outside'],\n",
    "        '2H': ['fuel_pincell_1_family', 'gap_pincell_1_family', 'clad_pincell_1_family', 'moderator_pincell_1_family', 'B4C_b4c_1_family', 'gap_b4c_1_family', 'clad_b4c_1_family', 'guide_b4c_1_family', 'moderator_b4c_1_family', 'water_guide_instru_1_family', 'clad_guide_instru_1_family', 'moderator_instru_1_family', 'water_outside'],\n",
    "        '2I': ['fuel_pincell_1_family', 'gap_pincell_1_family', 'clad_pincell_1_family', 'moderator_pincell_1_family', 'water_guide_1_family', 'clad_guide_1_family', 'moderator_guide_1_family', 'water_cellinstru_1_family', 'clad_cellinstru_1_family', 'instru_cellinstru_1_family', 'water_outside'],\n",
    "        '2J': ['fuel_pincell_1_family', 'gap_pincell_1_family', 'clad_pincell_1_family', 'moderator_pincell_1_family', 'steel_cell_pyrex_1_family', 'gap_cell_pyrex_1_family', 'pyrex_cell_pyrex_1_family', 'water_cell_pyrex_1_family', 'guide_cell_pyrex_1_family', 'water_cellinstru_1_family', 'clad_cellinstru_1_family', 'instru_cellinstru_1_family', 'water_outside'],\n",
    "        '2K': ['fuel_pincell_low_1_family', 'gap_pincell_low_1_family', 'clad_pincell_low_1_family', 'moderator_pincell_low_1_family', 'fuel_pincell_high_1_family', 'gap_pincell_high_1_family', 'clad_pincell_high_1_family', 'moderator_pincell_high_1_family', 'steel_cell_pyrex_1_family', 'gap_cell_pyrex_1_family', 'pyrex_cell_pyrex_1_family', 'water_cell_pyrex_1_family', 'guide_cell_pyrex_1_family', 'water_instru_1_family', 'clad_instru_1_family', 'moderator_instru_1_family', 'water_outside'],\n",
    "        '2L': ['fuel_ifba', 'gap_ifba', 'clad_ifba', 'coat_ifba', 'moderator_ifba', 'fuel_normal', 'gap_normal', 'clad_normal', 'moderator_normal', 'water_guide_guide', 'clad_guide_guide', 'moderator_guide', 'water_guide_instru', 'clad_guide_instru', 'moderator_instru', 'water_outside'],\n",
    "        '2M': ['fuel_ifba', 'gap_ifba', 'clad_ifba', 'coat_ifba', 'moderator_ifba', 'fuel_normal', 'gap_normal', 'clad_normal', 'moderator_normal', 'water_guide_guide', 'clad_guide_guide', 'moderator_guide', 'water_guide_instru', 'clad_guide_instru', 'moderator_instru', 'water_outside'],\n",
    "        '2N': ['fuel_ifba', 'gap_ifba', 'clad_ifba', 'coat_ifba', 'moderator_ifba', 'fuel_normal', 'gap_normal', 'clad_normal', 'moderator_normal', 'clad_cell_waba', 'gap_cell_waba', 'poison_cell_waba', 'water_cell_waba', 'guide_cell_waba', 'water_guide_guide', 'clad_guide_guide', 'moderator_guide', 'water_guide_instru', 'clad_guide_instru', 'moderator_instru', 'water_outside'],\n",
    "        '2O': ['fuel_pincell', 'gap_pincell', 'clad_pincell', 'moderator_pincell', 'fuel_gado', 'gap_gado', 'clad_gado', 'moderator_gado', 'water_guide', 'clad_guide', 'moderator_guide', 'water_instru', 'clad_instru', 'moderator_instru', 'water_outside'],\n",
    "        '2P': ['fuel_pincell', 'gap_pincell', 'clad_pincell', 'moderator_pincell', 'fuel_gado', 'gap_gado', 'clad_gado', 'moderator_gado', 'water_guide', 'clad_guide', 'moderator_guide', 'water_instru', 'clad_instru', 'moderator_instru', 'water_outside']\n",
    "    }\n",
    "    \n"
   ]
  },
  {
   "cell_type": "code",
   "execution_count": 10,
   "id": "540c966b-04dc-4d59-9cb6-37bb1b865788",
   "metadata": {},
   "outputs": [
    {
     "name": "stdout",
     "output_type": "stream",
     "text": [
      "2A ['clad_guide', 'clad_instru', 'clad_pincell', 'fuel_pincell', 'gap_pincell', 'moderator_guide', 'moderator_instru', 'moderator_pincell', 'water_guide', 'water_instru', 'water_outside']\n",
      "2B ['clad_guide', 'clad_instru', 'clad_pincell', 'fuel_pincell', 'gap_pincell', 'moderator_guide', 'moderator_instru', 'moderator_pincell', 'water_guide', 'water_instru', 'water_outside']\n",
      "2C ['clad_guide', 'clad_instru', 'clad_pincell', 'fuel_pincell', 'gap_pincell', 'moderator_guide', 'moderator_instru', 'moderator_pincell', 'water_guide', 'water_instru', 'water_outside']\n",
      "2D ['clad_guide', 'clad_instru', 'clad_pincell', 'fuel_pincell', 'gap_pincell', 'moderator_guide', 'moderator_instru', 'moderator_pincell', 'water_guide', 'water_instru', 'water_outside']\n",
      "2E ['clad_guide_1_family', 'clad_guide_instru_1_family', 'clad_pincell_1_family', 'fuel_pincell_1_family', 'gap_cell_pyrex_1_family', 'gap_pincell_1_family', 'guide_cell_pyrex_1_family', 'moderator_guide_1_family', 'moderator_instru_1_family', 'moderator_pincell_1_family', 'pyrex_cell_pyrex_1_family', 'steel_cell_pyrex_1_family', 'water_cell_pyrex_1_family', 'water_guide_1_family', 'water_guide_instru_1_family', 'water_outside']\n",
      "2F ['clad_instru_1_family', 'clad_pincell_1_family', 'fuel_pincell_1_family', 'gap_cell_pyrex_1_family', 'gap_pincell_1_family', 'guide_cell_pyrex_1_family', 'moderator_instru_1_family', 'moderator_pincell_1_family', 'pyrex_cell_pyrex_1_family', 'steel_cell_pyrex_1_family', 'water_cell_pyrex_1_family', 'water_instru_1_family', 'water_outside']\n",
      "2G ['AIC_aic_1_family', 'clad_aic_1_family', 'clad_guide_instru_1_family', 'clad_pincell_1_family', 'fuel_pincell_1_family', 'gap_aic_1_family', 'gap_pincell_1_family', 'guide_aic_1_family', 'moderator_aic_1_family', 'moderator_instru_1_family', 'moderator_pincell_1_family', 'water_guide_instru_1_family', 'water_outside']\n",
      "2H ['B4C_b4c_1_family', 'clad_b4c_1_family', 'clad_guide_instru_1_family', 'clad_pincell_1_family', 'fuel_pincell_1_family', 'gap_b4c_1_family', 'gap_pincell_1_family', 'guide_b4c_1_family', 'moderator_b4c_1_family', 'moderator_instru_1_family', 'moderator_pincell_1_family', 'water_guide_instru_1_family', 'water_outside']\n",
      "2I ['clad_cellinstru_1_family', 'clad_guide_1_family', 'clad_pincell_1_family', 'fuel_pincell_1_family', 'gap_pincell_1_family', 'instru_cellinstru_1_family', 'moderator_guide_1_family', 'moderator_pincell_1_family', 'water_cellinstru_1_family', 'water_guide_1_family', 'water_outside']\n",
      "2J ['clad_cellinstru_1_family', 'clad_pincell_1_family', 'fuel_pincell_1_family', 'gap_cell_pyrex_1_family', 'gap_pincell_1_family', 'guide_cell_pyrex_1_family', 'instru_cellinstru_1_family', 'moderator_pincell_1_family', 'pyrex_cell_pyrex_1_family', 'steel_cell_pyrex_1_family', 'water_cell_pyrex_1_family', 'water_cellinstru_1_family', 'water_outside']\n",
      "2K ['clad_instru_1_family', 'clad_pincell_high_1_family', 'clad_pincell_low_1_family', 'fuel_pincell_high_1_family', 'fuel_pincell_low_1_family', 'gap_cell_pyrex_1_family', 'gap_pincell_high_1_family', 'gap_pincell_low_1_family', 'guide_cell_pyrex_1_family', 'moderator_instru_1_family', 'moderator_pincell_high_1_family', 'moderator_pincell_low_1_family', 'pyrex_cell_pyrex_1_family', 'steel_cell_pyrex_1_family', 'water_cell_pyrex_1_family', 'water_instru_1_family', 'water_outside']\n",
      "2L ['clad_guide_guide', 'clad_guide_instru', 'clad_ifba', 'clad_normal', 'coat_ifba', 'fuel_ifba', 'fuel_normal', 'gap_ifba', 'gap_normal', 'moderator_guide', 'moderator_ifba', 'moderator_instru', 'moderator_normal', 'water_guide_guide', 'water_guide_instru', 'water_outside']\n",
      "2M ['clad_guide_guide', 'clad_guide_instru', 'clad_ifba', 'clad_normal', 'coat_ifba', 'fuel_ifba', 'fuel_normal', 'gap_ifba', 'gap_normal', 'moderator_guide', 'moderator_ifba', 'moderator_instru', 'moderator_normal', 'water_guide_guide', 'water_guide_instru', 'water_outside']\n",
      "2N ['clad_cell_waba', 'clad_guide_guide', 'clad_guide_instru', 'clad_ifba', 'clad_normal', 'coat_ifba', 'fuel_ifba', 'fuel_normal', 'gap_cell_waba', 'gap_ifba', 'gap_normal', 'guide_cell_waba', 'moderator_guide', 'moderator_ifba', 'moderator_instru', 'moderator_normal', 'poison_cell_waba', 'water_cell_waba', 'water_guide_guide', 'water_guide_instru', 'water_outside']\n",
      "2O ['clad_gado', 'clad_guide', 'clad_instru', 'clad_pincell', 'fuel_gado', 'fuel_pincell', 'gap_gado', 'gap_pincell', 'moderator_gado', 'moderator_guide', 'moderator_instru', 'moderator_pincell', 'water_guide', 'water_instru', 'water_outside']\n",
      "2P ['clad_gado', 'clad_guide', 'clad_instru', 'clad_pincell', 'fuel_gado', 'fuel_pincell', 'gap_gado', 'gap_pincell', 'moderator_gado', 'moderator_guide', 'moderator_instru', 'moderator_pincell', 'water_guide', 'water_instru', 'water_outside']\n"
     ]
    }
   ],
   "source": [
    "def sort_list_alphabetically(lst):\n",
    "    return sorted(lst)\n",
    "pb_num_list=['2A','2B','2C','2D','2E','2F','2G','2H','2I','2J','2K','2L','2M','2N','2O','2P']\n",
    "\n",
    "dict_alphab={}\n",
    "for pb_num in pb_num_list:\n",
    "    dict_alphab[pb_num]=sort_list_alphabetically(name_mgxs_dict[pb_num])\n",
    "    print(pb_num,dict_alphab[pb_num])\n",
    "\n"
   ]
  },
  {
   "cell_type": "code",
   "execution_count": 11,
   "id": "88f60a9f-1d46-4ebb-aa41-51e554e8268f",
   "metadata": {},
   "outputs": [
    {
     "data": {
      "text/plain": [
       "['clad_C',\n",
       " 'clad_D',\n",
       " 'clad_E',\n",
       " 'clad_F',\n",
       " 'clad_FD',\n",
       " 'clad_GT',\n",
       " 'clad_IT',\n",
       " 'clad_N',\n",
       " 'fuel_C',\n",
       " 'fuel_D',\n",
       " 'fuel_E',\n",
       " 'fuel_F',\n",
       " 'fuel_FD',\n",
       " 'fuel_N',\n",
       " 'gap_C',\n",
       " 'gap_D',\n",
       " 'gap_E',\n",
       " 'gap_F',\n",
       " 'gap_FD',\n",
       " 'gap_N',\n",
       " 'moderator_C',\n",
       " 'moderator_D',\n",
       " 'moderator_E',\n",
       " 'moderator_F',\n",
       " 'moderator_FD',\n",
       " 'moderator_GT',\n",
       " 'moderator_IT',\n",
       " 'moderator_N',\n",
       " 'water_GT',\n",
       " 'water_IT',\n",
       " 'water_outside']"
      ]
     },
     "execution_count": 11,
     "metadata": {},
     "output_type": "execute_result"
    }
   ],
   "source": [
    "sort_list_alphabetically(['fuel_C', 'gap_C', 'clad_C', 'moderator_C', 'fuel_E', 'gap_E', 'clad_E', 'moderator_E', 'fuel_N', 'gap_N', 'clad_N', 'moderator_N', 'fuel_D', 'gap_D', 'clad_D', 'moderator_D', 'fuel_F', 'gap_F', 'clad_F', 'moderator_F', 'fuel_FD', 'gap_FD', 'clad_FD', 'moderator_FD', 'water_GT', 'clad_GT', 'moderator_GT', 'water_IT', 'clad_IT', 'moderator_IT', 'water_outside'])"
   ]
  },
  {
   "cell_type": "code",
   "execution_count": null,
   "id": "4dae611e-5fee-459c-9ea6-82c2acd1cf6a",
   "metadata": {},
   "outputs": [],
   "source": []
  }
 ],
 "metadata": {
  "kernelspec": {
   "display_name": "Python 3 (ipykernel)",
   "language": "python",
   "name": "python3"
  },
  "language_info": {
   "codemirror_mode": {
    "name": "ipython",
    "version": 3
   },
   "file_extension": ".py",
   "mimetype": "text/x-python",
   "name": "python",
   "nbconvert_exporter": "python",
   "pygments_lexer": "ipython3",
   "version": "3.12.3"
  }
 },
 "nbformat": 4,
 "nbformat_minor": 5
}

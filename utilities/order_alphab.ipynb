{
 "cells": [
  {
   "cell_type": "code",
   "execution_count": 2,
   "id": "540c966b-04dc-4d59-9cb6-37bb1b865788",
   "metadata": {},
   "outputs": [
    {
     "name": "stdout",
     "output_type": "stream",
     "text": [
      "['clad_C', 'clad_D', 'clad_E', 'clad_F', 'clad_FD', 'clad_GT', 'clad_IT', 'clad_N', 'fuel_C', 'fuel_D', 'fuel_E', 'fuel_F', 'fuel_FD', 'fuel_N', 'gap_C', 'gap_D', 'gap_E', 'gap_F', 'gap_FD', 'gap_N', 'moderator_C', 'moderator_D', 'moderator_E', 'moderator_F', 'moderator_FD', 'moderator_GT', 'moderator_IT', 'moderator_N', 'water_GT', 'water_IT', 'water_outside']\n"
     ]
    }
   ],
   "source": [
    "def sort_list_alphabetically(lst):\n",
    "    return sorted(lst)\n",
    "\n",
    "# Example usage\n",
    "# my_list =['fuel_pincell', 'gap_pincell', 'clad_pincell', 'moderator_pincell', 'water_guide', 'clad_guide', 'moderator_guide', 'water_instru', 'clad_instru', 'moderator_instru', 'water_outside']\n",
    "# my_list =['fuel_pincell', 'clad_pincell', 'moderator_pincell', 'water_guide', 'clad_guide', 'moderator_guide', 'water_instru', 'clad_instru', 'moderator_instru', 'water_outside']\n",
    "my_list = ['fuel_C', 'gap_C', 'clad_C', 'moderator_C', 'fuel_E', 'gap_E', 'clad_E', 'moderator_E', 'fuel_N', 'gap_N', 'clad_N', 'moderator_N', 'fuel_D', 'gap_D', 'clad_D', 'moderator_D', 'fuel_F', 'gap_F', 'clad_F', 'moderator_F', 'fuel_FD', 'gap_FD', 'clad_FD', 'moderator_FD', 'water_GT', 'clad_GT', 'moderator_GT', 'water_IT', 'clad_IT', 'moderator_IT', 'water_outside']\n",
    "# my_list = ['fuel_0_0', 'gap_0_0', 'clad_0_0', 'moderator_0_0', 'fuel_1_0', 'gap_1_0', 'clad_1_0', 'moderator_1_0', 'fuel_2_0', 'gap_2_0', 'clad_2_0', 'moderator_2_0', 'fuel_3_0', 'gap_3_0', 'clad_3_0', 'moderator_3_0', 'fuel_4_0', 'gap_4_0', 'clad_4_0', 'moderator_4_0', 'fuel_5_0', 'gap_5_0', 'clad_5_0', 'moderator_5_0', 'fuel_6_0', 'gap_6_0', 'clad_6_0', 'moderator_6_0', 'fuel_7_0', 'gap_7_0', 'clad_7_0', 'moderator_7_0', 'fuel_8_0', 'gap_8_0', 'clad_8_0', 'moderator_8_0', 'fuel_1_1', 'gap_1_1', 'clad_1_1', 'moderator_1_1', 'fuel_2_1', 'gap_2_1', 'clad_2_1', 'moderator_2_1', 'fuel_3_1', 'gap_3_1', 'clad_3_1', 'moderator_3_1', 'fuel_4_1', 'gap_4_1', 'clad_4_1', 'moderator_4_1', 'fuel_5_1', 'gap_5_1', 'clad_5_1', 'moderator_5_1', 'fuel_6_1', 'gap_6_1', 'clad_6_1', 'moderator_6_1', 'fuel_7_1', 'gap_7_1', 'clad_7_1', 'moderator_7_1', 'fuel_8_1', 'gap_8_1', 'clad_8_1', 'moderator_8_1', 'fuel_2_2', 'gap_2_2', 'clad_2_2', 'moderator_2_2', 'fuel_3_2', 'gap_3_2', 'clad_3_2', 'moderator_3_2', 'fuel_4_2', 'gap_4_2', 'clad_4_2', 'moderator_4_2', 'water_5_2', 'clad_5_2', 'moderator_5_2', 'fuel_6_2', 'gap_6_2', 'clad_6_2', 'moderator_6_2', 'fuel_7_2', 'gap_7_2', 'clad_7_2', 'moderator_7_2', 'water_8_2', 'clad_8_2', 'moderator_8_2', 'water_3_3', 'clad_3_3', 'moderator_3_3', 'fuel_4_3', 'gap_4_3', 'clad_4_3', 'moderator_4_3', 'fuel_5_3', 'gap_5_3', 'clad_5_3', 'moderator_5_3', 'fuel_6_3', 'gap_6_3', 'clad_6_3', 'moderator_6_3', 'fuel_7_3', 'gap_7_3', 'clad_7_3', 'moderator_7_3', 'fuel_8_3', 'gap_8_3', 'clad_8_3', 'moderator_8_3', 'fuel_4_4', 'gap_4_4', 'clad_4_4', 'moderator_4_4', 'fuel_5_4', 'gap_5_4', 'clad_5_4', 'moderator_5_4', 'fuel_6_4', 'gap_6_4', 'clad_6_4', 'moderator_6_4', 'fuel_7_4', 'gap_7_4', 'clad_7_4', 'moderator_7_4', 'fuel_8_4', 'gap_8_4', 'clad_8_4', 'moderator_8_4', 'water_5_5', 'clad_5_5', 'moderator_5_5', 'fuel_6_5', 'gap_6_5', 'clad_6_5', 'moderator_6_5', 'fuel_7_5', 'gap_7_5', 'clad_7_5', 'moderator_7_5', 'water_8_5', 'clad_8_5', 'moderator_8_5', 'fuel_6_6', 'gap_6_6', 'clad_6_6', 'moderator_6_6', 'fuel_7_6', 'gap_7_6', 'clad_7_6', 'moderator_7_6', 'fuel_8_6', 'gap_8_6', 'clad_8_6', 'moderator_8_6', 'fuel_7_7', 'gap_7_7', 'clad_7_7', 'moderator_7_7', 'fuel_8_7', 'gap_8_7', 'clad_8_7', 'moderator_8_7', 'water_8_8', 'clad_8_8', 'moderator_8_8']\n",
    "sorted_list = sort_list_alphabetically(my_list)\n",
    "print(sorted_list)"
   ]
  },
  {
   "cell_type": "code",
   "execution_count": null,
   "id": "0b95a13f-459e-4073-8867-571e32c84d7f",
   "metadata": {},
   "outputs": [],
   "source": []
  }
 ],
 "metadata": {
  "kernelspec": {
   "display_name": "Python 3 (ipykernel)",
   "language": "python",
   "name": "python3"
  },
  "language_info": {
   "codemirror_mode": {
    "name": "ipython",
    "version": 3
   },
   "file_extension": ".py",
   "mimetype": "text/x-python",
   "name": "python",
   "nbconvert_exporter": "python",
   "pygments_lexer": "ipython3",
   "version": "3.12.3"
  }
 },
 "nbformat": 4,
 "nbformat_minor": 5
}

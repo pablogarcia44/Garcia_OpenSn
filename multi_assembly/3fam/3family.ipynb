{
 "cells": [
  {
   "cell_type": "markdown",
   "id": "cdd8a24a-a018-4a2b-aaed-7eae9c99a62b",
   "metadata": {},
   "source": [
    "# 3x3 assembly inputfile that: "
   ]
  },
  {
   "cell_type": "markdown",
   "id": "880099d7-f1e0-4a4f-9a03-3d4c52de6943",
   "metadata": {},
   "source": [
    "### Import module/Set up XS path/Create openMC model/Clean directory"
   ]
  },
  {
   "cell_type": "code",
   "execution_count": 246,
   "id": "e4b5e472-92fe-4d54-b9df-c70131c052a1",
   "metadata": {},
   "outputs": [],
   "source": [
    "import sys\n",
    "import os \n",
    "import openmc\n",
    "import numpy as np\n",
    "import matplotlib.pyplot as plt\n",
    "import openmc.mgxs as mgxs\n",
    "import pandas as pd\n",
    "from IPython.display import Image\n",
    "import glob"
   ]
  },
  {
   "cell_type": "markdown",
   "id": "e02f7d89-8f36-4c72-80d6-f1b53646d94e",
   "metadata": {},
   "source": [
    "### Pablo environnement"
   ]
  },
  {
   "cell_type": "code",
   "execution_count": 247,
   "id": "1e7cc449-037d-4c4f-aa2e-6f21e06bd185",
   "metadata": {},
   "outputs": [],
   "source": [
    "model=openmc.Model()\n",
    "\n",
    "clean_file_list = [\"model.xml\", \"materials.xml\", \"geometry.xml\",\"plots.xml\",\"geometry.xml\",\"settings.xml\",\"tallies.out\",\"summary.h5\",\"statepoint.50.h5\"]\n",
    "for file in clean_file_list :\n",
    "    path_file = os.path.join(os.getcwd(), file)\n",
    "    if os.path.exists(path_file):\n",
    "        os.remove(path_file)"
   ]
  },
  {
   "cell_type": "markdown",
   "id": "d759264e-22d9-45ed-9b06-58531a984021",
   "metadata": {},
   "source": [
    "### Define Materials"
   ]
  },
  {
   "cell_type": "code",
   "execution_count": 248,
   "id": "50dee80c-d7a7-49e1-99ef-5094e87b5808",
   "metadata": {},
   "outputs": [],
   "source": [
    "uo2 = openmc.Material(name='uo2')\n",
    "uo2.add_nuclide('U234', 6.11864E-06, 'ao')\n",
    "uo2.add_nuclide('U235', 7.18132E-04, 'ao')\n",
    "uo2.add_nuclide('U236', 3.29861E-06, 'ao')\n",
    "uo2.add_nuclide('U238', 2.21546E-02, 'ao')\n",
    "uo2.add_nuclide('O16', 4.57642E-02, 'ao')\n",
    "uo2.set_density('g/cm3', 10.257 )\n",
    "uo2.temperature=565\n",
    "\n",
    "zirconium = openmc.Material(name=\"zirconium\")\n",
    "zirconium.add_nuclide('Zr90', 2.18865E-02, 'ao')\n",
    "zirconium.add_nuclide('Zr91', 4.77292E-03, 'ao')\n",
    "zirconium.add_nuclide('Zr92', 7.29551E-03, 'ao')\n",
    "zirconium.add_nuclide('Zr94', 7.39335E-03, 'ao')\n",
    "zirconium.add_nuclide('Zr96', 1.19110E-03, 'ao')\n",
    "zirconium.add_nuclide('Sn112',4.68066E-06, 'ao')\n",
    "zirconium.add_nuclide('Sn114', 3.18478E-06, 'ao')\n",
    "zirconium.add_nuclide('Sn115', 1.64064E-06, 'ao')\n",
    "zirconium.add_nuclide('Sn116', 7.01616E-05, 'ao')\n",
    "zirconium.add_nuclide('Sn117', 3.70592E-05, 'ao')\n",
    "zirconium.add_nuclide('Sn118', 1.16872E-04, 'ao')\n",
    "zirconium.add_nuclide('Sn119', 4.14504E-05, 'ao')\n",
    "zirconium.add_nuclide('Sn120', 1.57212E-04, 'ao')\n",
    "zirconium.add_nuclide('Sn122', 2.23417E-05, 'ao')\n",
    "zirconium.add_nuclide('Sn124', 2.79392E-05, 'ao')\n",
    "zirconium.add_nuclide('Fe54', 8.68307E-06, 'ao')\n",
    "zirconium.add_nuclide('Fe56', 1.36306E-04, 'ao')\n",
    "zirconium.add_nuclide('Fe57', 3.14789E-06, 'ao')\n",
    "zirconium.add_nuclide('Fe58', 4.18926E-07, 'ao')\n",
    "zirconium.add_nuclide('Cr50', 3.30121E-06, 'ao')\n",
    "zirconium.add_nuclide('Cr52', 6.36606E-05, 'ao')\n",
    "zirconium.add_nuclide('Cr53', 7.21860E-06, 'ao')\n",
    "zirconium.add_nuclide('Cr54', 1.79686E-06, 'ao')\n",
    "zirconium.add_nuclide('Hf174', 3.54138E-09, 'ao')\n",
    "zirconium.add_nuclide('Hf176', 1.16423E-07, 'ao')\n",
    "zirconium.add_nuclide('Hf177', 4.11686E-07, 'ao')\n",
    "zirconium.add_nuclide('Hf178', 6.03806E-07, 'ao')\n",
    "zirconium.add_nuclide('Hf179', 3.01460E-07, 'ao')\n",
    "zirconium.add_nuclide('Hf180', 7.76449E-07, 'ao')\n",
    "zirconium.set_density('g/cm3',  6.56)\n",
    "\n",
    "water = openmc.Material(name=\"water\")\n",
    "water.add_nuclide('H1',4.96224E-02, 'ao')\n",
    "water.add_nuclide('O16', 2.48112E-02, 'ao')\n",
    "water.add_nuclide('B10', 1.07070E-05, 'ao')\n",
    "water.add_nuclide('B11', 4.30971E-05, 'ao')\n",
    "water.temperature=565\n",
    "water.set_density('g/cm3', 0.743)\n",
    "water.add_s_alpha_beta('c_H_in_H2O')\n",
    "\n",
    "helium = openmc.Material(name=\"helium\")\n",
    "helium.add_nuclide('He4',1, 'ao')\n",
    "helium.temperature=565\n",
    "helium.set_density('g/cm3', 0.178E-03 )\n",
    "\n",
    "\n",
    "model.materials = openmc.Materials([uo2, zirconium, water,helium]) \n",
    "#Perso path\n",
    "model.materials.cross_sections = '/home/pablo/internship/xs_for_input/cross_sections.xml'\n",
    "#Mac path\n",
    "# model.materials.cross_sections = '/Users/pablogarcia44/repo/endfb-vii.1-hdf5/cross_sections.xml'"
   ]
  },
  {
   "cell_type": "markdown",
   "id": "ffd5255c-47f3-4394-836f-140dddeef018",
   "metadata": {},
   "source": [
    "### Create pincell"
   ]
  },
  {
   "cell_type": "code",
   "execution_count": 317,
   "id": "d6b9097d-01da-4e73-bdf5-c201c38f570e",
   "metadata": {},
   "outputs": [],
   "source": [
    "def pincell(family):\n",
    "    fuel_outer_radius = openmc.ZCylinder(r=0.4096)\n",
    "    clad_inner_radius = openmc.ZCylinder(r=0.418)\n",
    "    clad_outer_radius = openmc.ZCylinder(r=0.475)\n",
    "    pitch = 1.26\n",
    "    left = openmc.XPlane(-pitch/2, boundary_type='transmission')\n",
    "    right = openmc.XPlane(pitch/2, boundary_type='transmission')\n",
    "    bottom = openmc.YPlane(-pitch/2, boundary_type='transmission')\n",
    "    top = openmc.YPlane(pitch/2, boundary_type='transmission')\n",
    "    fuel_region = -fuel_outer_radius\n",
    "    gap_region = +fuel_outer_radius & -clad_inner_radius\n",
    "    clad_region = +clad_inner_radius & -clad_outer_radius\n",
    "    water_region = +left & -right & +bottom & -top & +clad_outer_radius\n",
    "    fuel = openmc.Cell(name='fuel'+'_'+family)\n",
    "    fuel.fill = uo2\n",
    "    fuel.region = fuel_region\n",
    "    gap = openmc.Cell(name='gap'+'_'+family)\n",
    "    gap.region = gap_region\n",
    "    gap.fill = helium     \n",
    "    clad = openmc.Cell(name='clad'+'_'+family)\n",
    "    clad.fill = zirconium\n",
    "    clad.region = clad_region\n",
    "    moderator = openmc.Cell(name='moderator'+'_'+family)\n",
    "    moderator.fill = water\n",
    "    moderator.region = water_region \n",
    "    u = openmc.Universe(name='u'+'_'+family,cells=(fuel, clad, moderator,gap))\n",
    "    return(u,fuel,clad,moderator,gap)"
   ]
  },
  {
   "cell_type": "code",
   "execution_count": 339,
   "id": "819d0914-eb0a-410c-adcf-021ed5dbeaa0",
   "metadata": {},
   "outputs": [],
   "source": [
    "def pincell_side(family):\n",
    "    pitch = 1.26\n",
    "    left = openmc.XPlane(-pitch/2, boundary_type='transmission')\n",
    "    right = openmc.XPlane(pitch/2, boundary_type='transmission')\n",
    "    bottom = openmc.YPlane(-pitch/2, boundary_type='transmission')\n",
    "    top = openmc.YPlane(pitch/2, boundary_type='transmission')\n",
    "    water_region = +left & -right & +bottom & -top \n",
    "    moderator = openmc.Cell(name='moderator'+'_'+family)\n",
    "    moderator.fill = water\n",
    "    moderator.region = water_region \n",
    "    u = openmc.Universe(name='u'+'_'+family)\n",
    "    u.add_cell(moderator)\n",
    "    return(u,moderator)"
   ]
  },
  {
   "cell_type": "markdown",
   "id": "54553cbc-a489-4d17-985b-5d3c7427e819",
   "metadata": {},
   "source": [
    "### Create guide tube"
   ]
  },
  {
   "cell_type": "code",
   "execution_count": 340,
   "id": "5bc2f291-46b1-4d26-96cd-be3b66cbb53b",
   "metadata": {},
   "outputs": [],
   "source": [
    "def guide(family):\n",
    "    clad_inner_radius = openmc.ZCylinder(r=0.561)\n",
    "    clad_outer_radius = openmc.ZCylinder(r=0.602)\n",
    "    pitch = 1.26\n",
    "    left = openmc.XPlane(-pitch/2, boundary_type='transmission')\n",
    "    right = openmc.XPlane(pitch/2, boundary_type='transmission')\n",
    "    bottom = openmc.YPlane(-pitch/2, boundary_type='transmission')\n",
    "    top = openmc.YPlane(pitch/2, boundary_type='transmission')       \n",
    "    clad_region = +clad_inner_radius & -clad_outer_radius\n",
    "    water_region = +left & -right & +bottom & -top & +clad_outer_radius\n",
    "    water_guide_region= -clad_inner_radius\n",
    "    water_guide = openmc.Cell(name='water'+'_'+family)\n",
    "    water_guide.fill = water\n",
    "    water_guide.region = water_guide_region\n",
    "    clad = openmc.Cell(name='clad'+'_'+family)\n",
    "    clad.fill = zirconium\n",
    "    clad.region = clad_region\n",
    "    moderator = openmc.Cell(name='moderator'+'_'+family)\n",
    "    moderator.fill = water\n",
    "    moderator.region = water_region \n",
    "    u = openmc.Universe(name='u_guide'+'_'+family,cells=(water_guide, clad, moderator))\n",
    "    return(u,water_guide,water_guide,clad,moderator)"
   ]
  },
  {
   "cell_type": "markdown",
   "id": "017e1c31-c1d9-4788-92c4-07e64a565b27",
   "metadata": {},
   "source": [
    "### Create instrumentation tube"
   ]
  },
  {
   "cell_type": "code",
   "execution_count": 341,
   "id": "1c2bf85b-7a79-4917-b8a5-5fa8d0a75450",
   "metadata": {},
   "outputs": [],
   "source": [
    "def instru(family):\n",
    "    clad_inner_radius = openmc.ZCylinder(r=0.559)\n",
    "    clad_outer_radius = openmc.ZCylinder(r=0.605)\n",
    "    pitch = 1.26\n",
    "    left = openmc.XPlane(-pitch/2, boundary_type='transmission')\n",
    "    right = openmc.XPlane(pitch/2, boundary_type='transmission')\n",
    "    bottom = openmc.YPlane(-pitch/2, boundary_type='transmission')\n",
    "    top = openmc.YPlane(pitch/2, boundary_type='transmission')       \n",
    "    clad_region = +clad_inner_radius & -clad_outer_radius\n",
    "    water_region = +left & -right & +bottom & -top & +clad_outer_radius\n",
    "    water_guide_region= -clad_inner_radius\n",
    "    water_guide = openmc.Cell(name='water'+'_'+family)\n",
    "    water_guide.fill = water\n",
    "    water_guide.region = water_guide_region\n",
    "    clad = openmc.Cell(name='clad'+'_'+family)\n",
    "    clad.fill = zirconium\n",
    "    clad.region = clad_region\n",
    "    moderator = openmc.Cell(name='moderator'+'_'+family)\n",
    "    moderator.fill = water\n",
    "    moderator.region = water_region \n",
    "    u = openmc.Universe(name='u_guide'+'_'+family,cells=(water_guide, clad, moderator))\n",
    "    return(u,water_guide,water_guide,clad,moderator)"
   ]
  },
  {
   "cell_type": "markdown",
   "id": "86d220c6-2336-466d-9e9d-7bac2efe8dc0",
   "metadata": {},
   "source": [
    "### Mappping"
   ]
  },
  {
   "cell_type": "code",
   "execution_count": 342,
   "id": "d3074464-adca-4a6c-84eb-180da05339f7",
   "metadata": {},
   "outputs": [
    {
     "name": "stdout",
     "output_type": "stream",
     "text": [
      "[(3, 13), (11, 2), (11, 5), (11, 8), (2, 5), (11, 14), (2, 11), (11, 11), (2, 8), (3, 3), (8, 2), (8, 5), (8, 11), (8, 14), (13, 13), (14, 5), (14, 11), (5, 2), (14, 8), (5, 5), (5, 11), (5, 8), (5, 14), (13, 3)]\n"
     ]
    }
   ],
   "source": [
    "GT=[(5,2),(8,2),(3,3),(2,5),(5,5),(8,5),(2,8),(5,8)]\n",
    "IT=[(8,8)]\n",
    "\n",
    "GT_left=[]\n",
    "GT_full=[]\n",
    "for X in GT:\n",
    "    GT_left.append((X[0],X[1]))\n",
    "    GT_left.append((X[0],16-X[1]))\n",
    "for X in GT_left:\n",
    "    GT_full.append((X[0],X[1]))\n",
    "    GT_full.append((16-X[0],X[1]))    \n",
    "GT_full = list(set(GT_full))\n",
    "print(GT_full)"
   ]
  },
  {
   "cell_type": "markdown",
   "id": "2c8e86fc-2b33-4de2-8ab8-f425db582845",
   "metadata": {
    "jp-MarkdownHeadingCollapsed": true
   },
   "source": [
    "### Create family pincell"
   ]
  },
  {
   "cell_type": "markdown",
   "id": "6367df82-7c94-493c-b736-10a8d34cf7de",
   "metadata": {},
   "source": [
    "### Define assembly"
   ]
  },
  {
   "cell_type": "code",
   "execution_count": 343,
   "id": "95ea78ea-d3bb-4bca-913c-76f2de8cfb93",
   "metadata": {},
   "outputs": [],
   "source": [
    "pitch=1.26\n",
    "dr=0.04\n",
    "size=19\n",
    "def create_assembly(family):\n",
    "    pincell_fam=pincell(family+'_'+'pincell')\n",
    "    guide_fam=guide(family+'_'+'guide')\n",
    "    instru_fam=instru(family+'_'+'instru')\n",
    "    side_fam=pincell_side(family+'_'+'outside')\n",
    "    \n",
    "    \n",
    "    assembly = openmc.RectLattice()\n",
    "    assembly.pitch = (pitch,pitch)\n",
    "    assembly.lower_left = (-size/2*pitch, -size/2*pitch)\n",
    "    \n",
    "\n",
    "\n",
    "    A= np.empty((size, size), dtype=openmc.universe.Universe)\n",
    "\n",
    "    for ix in range(size):\n",
    "        for iy in range(size):\n",
    "            if (ix-1,iy-1) in GT_full : \n",
    "                A[ix][iy]=guide_fam[0]\n",
    "            elif ix==0 or ix==18 or iy==0 or iy==18:\n",
    "                A[ix][iy]=side_fam[0]\n",
    "            elif (ix-1,iy-1) in IT :\n",
    "                A[ix][iy]=instru_fam[0]\n",
    "            else:\n",
    "                A[ix][iy]=pincell_fam[0]    \n",
    "        \n",
    "    assembly.universes = A\n",
    "\n",
    "    \n",
    "    rod_height=385.1\n",
    "    \n",
    "    \n",
    "    assembly_cell= openmc.Cell(name='assembly_cell', fill=assembly)\n",
    "\n",
    "    assembly_universe = openmc.Universe(name='assembly_universe')\n",
    "    assembly_universe.add_cell(assembly_cell)\n",
    "    print(assembly_universe)\n",
    "    min_x = openmc.XPlane(x0=-((size-2)*pitch/2+dr), boundary_type='reflective')\n",
    "    max_x = openmc.XPlane(x0=+((size-2)*pitch/2+dr), boundary_type='reflective')\n",
    "    min_y = openmc.YPlane(y0=-((size-2)*pitch/2+dr), boundary_type='reflective')\n",
    "    max_y = openmc.YPlane(y0=+((size-2)*pitch/2+dr), boundary_type='reflective')\n",
    "    min_z = openmc.ZPlane(z0=-rod_height/2, boundary_type='reflective')\n",
    "    max_z = openmc.ZPlane(z0=+rod_height/2, boundary_type='reflective')\n",
    "    root_cell = openmc.Cell(name='root cell', fill=assembly_universe)\n",
    "    root_cell.region = +min_x & -max_x & +min_y & -max_y & +min_z & -max_z\n",
    "    root_universe = openmc.Universe(name='root universe')\n",
    "    root_universe.add_cell(root_cell)\n",
    "    return(root_universe,pincell_fam,guide_fam,instru_fam,assembly_cell)\n",
    "    \n",
    "    "
   ]
  },
  {
   "cell_type": "code",
   "execution_count": 344,
   "id": "1e18e7d3-6f7d-45df-9d87-b685b2f46714",
   "metadata": {},
   "outputs": [
    {
     "name": "stdout",
     "output_type": "stream",
     "text": [
      "Universe\n",
      "\tID             =\t999\n",
      "\tName           =\tassembly_universe\n",
      "\tGeom           =\tCSG\n",
      "\tCells          =\t[2000]\n",
      "\n"
     ]
    },
    {
     "data": {
      "image/png": "[encoded data removed]",
      "text/plain": [
       "<IPython.core.display.Image object>"
      ]
     },
     "execution_count": 344,
     "metadata": {},
     "output_type": "execute_result"
    }
   ],
   "source": [
    "# dr=0.04\n",
    "# min_x = openmc.XPlane(x0=-((size-2)*pitch/2+dr), boundary_type='reflective')\n",
    "# max_x = openmc.XPlane(x0=+((size-2)*pitch/2+dr), boundary_type='reflective')\n",
    "# min_y = openmc.YPlane(y0=-((size-2)*pitch/2+dr), boundary_type='reflective')\n",
    "# max_y = openmc.YPlane(y0=+((size-2)*pitch/2+dr), boundary_type='reflective')\n",
    "# min_z = openmc.ZPlane(z0=-rod_height/2, boundary_type='reflective')\n",
    "# max_z = openmc.ZPlane(z0=+rod_height/2, boundary_type='reflective')\n",
    "\n",
    "# root_cell = openmc.Cell(name='root cell', fill=create_assembly('C')[0])\n",
    "# root_cell.region = +min_x & -max_x & +min_y & -max_y & +min_z & -max_z\n",
    "# root_universe = openmc.Universe(name='root universe')\n",
    "# root_universe.add_cell(root_cell)\n",
    "\n",
    "model.geometry.root_universe = create_assembly('C')[0]\n",
    "model.materials.export_to_xml()\n",
    "model.geometry.export_to_xml()\n",
    "plot = openmc.Plot.from_geometry(model.geometry)\n",
    "plot.pixels = (1000, 1000)\n",
    "plot.width = (pitch*20, pitch*20)\n",
    "plot.origin = (0., 0., 0)\n",
    "plot.color_by = 'cell'\n",
    "plot.to_ipython_image()"
   ]
  },
  {
   "cell_type": "code",
   "execution_count": 345,
   "id": "ad6b586b-0f37-4306-a083-f3283eb8a016",
   "metadata": {},
   "outputs": [
    {
     "name": "stdout",
     "output_type": "stream",
     "text": [
      "Universe\n",
      "\tID             =\t1006\n",
      "\tName           =\tassembly_universe\n",
      "\tGeom           =\tCSG\n",
      "\tCells          =\t[2013]\n",
      "\n",
      "Universe\n",
      "\tID             =\t1013\n",
      "\tName           =\tassembly_universe\n",
      "\tGeom           =\tCSG\n",
      "\tCells          =\t[2026]\n",
      "\n",
      "Universe\n",
      "\tID             =\t1020\n",
      "\tName           =\tassembly_universe\n",
      "\tGeom           =\tCSG\n",
      "\tCells          =\t[2039]\n",
      "\n"
     ]
    }
   ],
   "source": [
    "assembly_C=create_assembly('C')\n",
    "assembly_E=create_assembly('E')\n",
    "assembly_M=create_assembly('M')"
   ]
  },
  {
   "cell_type": "code",
   "execution_count": 346,
   "id": "7aa0f38f-c752-47db-af2e-6648a66ab0f4",
   "metadata": {},
   "outputs": [],
   "source": [
    "C_full=[(0,0),(2,2),(2,0),(0,2)]\n",
    "E_full=[(1,0),(0,1),(1,2),(2,1)]\n",
    "M_full=[(1,1)]"
   ]
  },
  {
   "cell_type": "code",
   "execution_count": 347,
   "id": "eb308585-562d-455b-ab0e-4338687a808c",
   "metadata": {
    "scrolled": true
   },
   "outputs": [],
   "source": [
    "pitch=1.26\n",
    "\n",
    "dr=0.04 # cm of water that is outside assembly\n",
    "\n",
    "\n",
    "size=17 #size of the assembly \n",
    "pitch_assembly=size*pitch+2*dr \n",
    "core = openmc.RectLattice()\n",
    "\n",
    "size_core=3\n",
    "core.pitch = (pitch_assembly,pitch_assembly)\n",
    "\n",
    "core.lower_left = (-size_core/2*pitch_assembly, -size_core/2*pitch_assembly)\n",
    "\n",
    "\n",
    "A= np.empty((size_core, size_core), dtype=openmc.universe.Universe)\n",
    "\n",
    "for ix in range(size_core):\n",
    "    for iy in range(size_core):\n",
    "        if (ix,iy) in C_full : \n",
    "            A[ix][iy]=assembly_C[0]\n",
    "        elif (ix,iy) in E_full :\n",
    "            A[ix][iy]=assembly_E[0]\n",
    "        elif (ix,iy) in M_full :\n",
    "            A[ix][iy]=assembly_M[0] \n",
    "\n",
    "      \n",
    "core.universes = A\n",
    "\n",
    "\n",
    "\n",
    "\n",
    "rod_height=385.1\n",
    "# 1/4 assembly\n",
    "min_x = openmc.XPlane(x0=-(size_core/2*pitch_assembly), boundary_type='reflective')\n",
    "max_x = openmc.XPlane(x0=0, boundary_type='reflective')\n",
    "min_y = openmc.YPlane(y0=0, boundary_type='reflective')\n",
    "max_y = openmc.YPlane(y0=+(size_core/2*pitch_assembly), boundary_type='reflective')\n",
    "min_z = openmc.ZPlane(z0=-rod_height/2, boundary_type='reflective')\n",
    "max_z = openmc.ZPlane(z0=+rod_height/2, boundary_type='reflective')\n",
    "\n",
    "\n",
    "root_cell = openmc.Cell(name='root cell', fill=core)\n",
    "root_cell.region = +min_x & -max_x & +min_y & -max_y & +min_z & -max_z\n",
    "\n",
    "\n",
    "\n",
    "model.geometry.root_universe = openmc.Universe(name='root universe')\n",
    "model.geometry.root_universe.add_cell(root_cell)"
   ]
  },
  {
   "cell_type": "markdown",
   "id": "de242f56-575c-4162-9850-e01d316406e4",
   "metadata": {},
   "source": [
    "### Plot"
   ]
  },
  {
   "cell_type": "code",
   "execution_count": 350,
   "id": "63e2f73f-9326-4d97-ae7d-4a7d8f3afcbb",
   "metadata": {},
   "outputs": [
    {
     "data": {
      "image/png": "[encoded data removed]",
      "text/plain": [
       "<IPython.core.display.Image object>"
      ]
     },
     "execution_count": 350,
     "metadata": {},
     "output_type": "execute_result"
    }
   ],
   "source": [
    "model.materials.export_to_xml()\n",
    "model.geometry.export_to_xml()\n",
    "plot = openmc.Plot.from_geometry(model.geometry)\n",
    "plot.pixels = (1000, 1000)\n",
    "plot.width = (pitch_assembly*3, pitch_assembly*3)\n",
    "plot.origin = (0., 0., 0)\n",
    "plot.color_by = 'cell'\n",
    "plot.to_ipython_image()\n",
    "# print(model.geometry.get_all_material_cells().values())"
   ]
  },
  {
   "cell_type": "markdown",
   "id": "90c73240-9aae-4a8e-ab35-fbc68032fb85",
   "metadata": {},
   "source": [
    "### Choose settings"
   ]
  },
  {
   "cell_type": "code",
   "execution_count": 41,
   "id": "42b13809-e8ac-45b5-8e4d-af2f00a57694",
   "metadata": {},
   "outputs": [],
   "source": [
    "bounds = [-pitch_assembly/2, 0, -10, 0, +pitch_assembly/2, 10]\n",
    "uniform_dist = openmc.stats.Box(bounds[:3], bounds[3:], only_fissionable=True)\n",
    "source = openmc.IndependentSource(space=uniform_dist)\n",
    "source.time = openmc.stats.Uniform(0, 1e-6)\n",
    "settings = openmc.Settings()\n",
    "settings.source = source\n",
    "settings = openmc.Settings()\n",
    "settings.source = source\n",
    "settings.batches = 50\n",
    "settings.inactive = 20\n",
    "settings.particles = 50000\n",
    "settings.keff_trigger = {'type':'std_dev','threshold':0.00010}\n",
    "settings.trigger_active = True\n",
    "settings.trigger_max_batches = 50000\n",
    "settings.output = {'tallies':True}\n",
    "settings.temperature['method'] = 'interpolation'\n",
    "model.settings = settings"
   ]
  },
  {
   "cell_type": "markdown",
   "id": "709977dc-3ea8-48a7-ab09-bb9cecc54ffa",
   "metadata": {},
   "source": [
    "### Define and choose energy group"
   ]
  },
  {
   "cell_type": "code",
   "execution_count": 42,
   "id": "fbc12bc6-1180-46b2-af7e-d54c0cedb555",
   "metadata": {},
   "outputs": [],
   "source": [
    "choose_group=openmc.mgxs.GROUP_STRUCTURES['SHEM-361']\n",
    "name_group='SHEM-361'\n"
   ]
  },
  {
   "cell_type": "markdown",
   "id": "c4e87c13-a743-4039-b93c-001057d7b3af",
   "metadata": {},
   "source": [
    "### Create MGXS tallies for mgxs directory"
   ]
  },
  {
   "cell_type": "code",
   "execution_count": 43,
   "id": "a323cc06-df7d-48a6-9cf1-c79117dad6b0",
   "metadata": {},
   "outputs": [
    {
     "name": "stderr",
     "output_type": "stream",
     "text": [
      "/home/pablo/anaconda3/envs/openmc-env/lib/python3.12/site-packages/openmc/mgxs/library.py:401: RuntimeWarning: The P0 correction will be ignored since the scattering order 3 is greater than zero\n",
      "  warn(msg, RuntimeWarning)\n"
     ]
    }
   ],
   "source": [
    "mgxs_lib = openmc.mgxs.Library(model.geometry)\n",
    "groups = openmc.mgxs.EnergyGroups(choose_group)\n",
    "mgxs_lib.energy_groups = groups\n",
    "mgxs_lib.scatter_format = \"legendre\"\n",
    "mgxs_lib.legendre_order = 3\n",
    "mgxs_lib.mgxs_types = ['total', 'absorption', 'nu-fission', 'fission' ,'chi', 'consistent nu-scatter matrix', 'multiplicity matrix','kappa-fission']\n",
    "#mgxs_lib.tally_trigger =openmc.Trigger('std_dev', 1e-2)\n",
    "mgxs_lib.by_nuclide = False\n",
    "mgxs_lib.domain_type = 'cell'\n",
    "mgxs_lib.domains = model.geometry.get_all_material_cells().values()\n",
    "mgxs_lib.build_library()\n",
    "tallies = openmc.Tallies()\n",
    "mgxs_lib.add_to_tallies_file(tallies, merge=True)\n",
    "model.tallies = tallies\n",
    "\n",
    "#model.export_to_xml()\n",
    "# model.export_to_model_xml('model_1_gap.xml')"
   ]
  },
  {
   "cell_type": "markdown",
   "id": "971540b5-5bfb-47be-86f6-9d8b80a38f27",
   "metadata": {},
   "source": [
    "### Run OpenMC model"
   ]
  },
  {
   "cell_type": "code",
   "execution_count": 44,
   "id": "4342f187-e130-495c-aaa5-744662e8215f",
   "metadata": {
    "scrolled": true
   },
   "outputs": [
    {
     "name": "stderr",
     "output_type": "stream",
     "text": [
      "/home/pablo/anaconda3/envs/openmc-env/lib/python3.12/site-packages/openmc/mixin.py:70: IDWarning: Another Filter instance already exists with id=1236.\n",
      "  warn(msg, IDWarning)\n",
      "/home/pablo/anaconda3/envs/openmc-env/lib/python3.12/site-packages/openmc/mixin.py:70: IDWarning: Another Filter instance already exists with id=2.\n",
      "  warn(msg, IDWarning)\n",
      "/home/pablo/anaconda3/envs/openmc-env/lib/python3.12/site-packages/openmc/mixin.py:70: IDWarning: Another Filter instance already exists with id=10.\n",
      "  warn(msg, IDWarning)\n"
     ]
    },
    {
     "name": "stdout",
     "output_type": "stream",
     "text": [
      "[Machine2:06416] mca_base_component_repository_open: unable to open mca_btl_openib: librdmacm.so.1: cannot open shared object file: No such file or directory (ignored)\n",
      "                                %%%%%%%%%%%%%%%\n",
      "                           %%%%%%%%%%%%%%%%%%%%%%%%\n",
      "                        %%%%%%%%%%%%%%%%%%%%%%%%%%%%%%\n",
      "                      %%%%%%%%%%%%%%%%%%%%%%%%%%%%%%%%%%\n",
      "                    %%%%%%%%%%%%%%%%%%%%%%%%%%%%%%%%%%%%%%\n",
      "                   %%%%%%%%%%%%%%%%%%%%%%%%%%%%%%%%%%%%%%%%\n",
      "                                    %%%%%%%%%%%%%%%%%%%%%%%%\n",
      "                                     %%%%%%%%%%%%%%%%%%%%%%%%\n",
      "                 ###############      %%%%%%%%%%%%%%%%%%%%%%%%\n",
      "                ##################     %%%%%%%%%%%%%%%%%%%%%%%\n",
      "                ###################     %%%%%%%%%%%%%%%%%%%%%%%\n",
      "                ####################     %%%%%%%%%%%%%%%%%%%%%%\n",
      "                #####################     %%%%%%%%%%%%%%%%%%%%%\n",
      "                ######################     %%%%%%%%%%%%%%%%%%%%\n",
      "                #######################     %%%%%%%%%%%%%%%%%%\n",
      "                 #######################     %%%%%%%%%%%%%%%%%\n",
      "                 ######################     %%%%%%%%%%%%%%%%%\n",
      "                  ####################     %%%%%%%%%%%%%%%%%\n",
      "                    #################     %%%%%%%%%%%%%%%%%\n",
      "                     ###############     %%%%%%%%%%%%%%%%\n",
      "                       ############     %%%%%%%%%%%%%%%\n",
      "                          ########     %%%%%%%%%%%%%%\n",
      "                                      %%%%%%%%%%%\n",
      "\n",
      "                 | The OpenMC Monte Carlo Code\n",
      "       Copyright | 2011-2023 MIT, UChicago Argonne LLC, and contributors\n",
      "         License | https://docs.openmc.org/en/latest/license.html\n",
      "         Version | 0.14.0\n",
      "        Git SHA1 | e1a8ee7794b441c992426f17fafe216391cbba83\n",
      "       Date/Time | 2024-08-23 02:03:14\n",
      "   MPI Processes | 1\n",
      "  OpenMP Threads | 5\n",
      "\n",
      " Reading model XML file './model.xml' ...\n",
      " WARNING: Other XML file input(s) are present. These files may be ignored in\n",
      "          favor of the ./model.xml file.\n",
      " Reading cross sections XML file...\n",
      " Reading U234 from /home/pablo/internship/xs_for_input/jeff-3.3-hdf5/U234.h5\n",
      " Reading U235 from /home/pablo/internship/xs_for_input/jeff-3.3-hdf5/U235.h5\n",
      " Reading U236 from /home/pablo/internship/xs_for_input/jeff-3.3-hdf5/U236.h5\n",
      " Reading U238 from /home/pablo/internship/xs_for_input/jeff-3.3-hdf5/U238.h5\n",
      " Reading O16 from /home/pablo/internship/xs_for_input/jeff-3.3-hdf5/O16.h5\n",
      " Reading Zr90 from /home/pablo/internship/xs_for_input/jeff-3.3-hdf5/Zr90.h5\n",
      " Reading Zr91 from /home/pablo/internship/xs_for_input/jeff-3.3-hdf5/Zr91.h5\n",
      " Reading Zr92 from /home/pablo/internship/xs_for_input/jeff-3.3-hdf5/Zr92.h5\n",
      " Reading Zr94 from /home/pablo/internship/xs_for_input/jeff-3.3-hdf5/Zr94.h5\n",
      " Reading Zr96 from /home/pablo/internship/xs_for_input/jeff-3.3-hdf5/Zr96.h5\n",
      " Reading Sn112 from /home/pablo/internship/xs_for_input/jeff-3.3-hdf5/Sn112.h5\n",
      " Reading Sn114 from /home/pablo/internship/xs_for_input/jeff-3.3-hdf5/Sn114.h5\n",
      " Reading Sn115 from /home/pablo/internship/xs_for_input/jeff-3.3-hdf5/Sn115.h5\n",
      " Reading Sn116 from /home/pablo/internship/xs_for_input/jeff-3.3-hdf5/Sn116.h5\n",
      " Reading Sn117 from /home/pablo/internship/xs_for_input/jeff-3.3-hdf5/Sn117.h5\n",
      " Reading Sn118 from /home/pablo/internship/xs_for_input/jeff-3.3-hdf5/Sn118.h5\n",
      " Reading Sn119 from /home/pablo/internship/xs_for_input/jeff-3.3-hdf5/Sn119.h5\n",
      " Reading Sn120 from /home/pablo/internship/xs_for_input/jeff-3.3-hdf5/Sn120.h5\n",
      " Reading Sn122 from /home/pablo/internship/xs_for_input/jeff-3.3-hdf5/Sn122.h5\n",
      " Reading Sn124 from /home/pablo/internship/xs_for_input/jeff-3.3-hdf5/Sn124.h5\n",
      " Reading Fe54 from /home/pablo/internship/xs_for_input/jeff-3.3-hdf5/Fe54.h5\n",
      " Reading Fe56 from /home/pablo/internship/xs_for_input/jeff-3.3-hdf5/Fe56.h5\n",
      " Reading Fe57 from /home/pablo/internship/xs_for_input/jeff-3.3-hdf5/Fe57.h5\n",
      " Reading Fe58 from /home/pablo/internship/xs_for_input/jeff-3.3-hdf5/Fe58.h5\n",
      " Reading Cr50 from /home/pablo/internship/xs_for_input/jeff-3.3-hdf5/Cr50.h5\n",
      " Reading Cr52 from /home/pablo/internship/xs_for_input/jeff-3.3-hdf5/Cr52.h5\n",
      " Reading Cr53 from /home/pablo/internship/xs_for_input/jeff-3.3-hdf5/Cr53.h5\n",
      " Reading Cr54 from /home/pablo/internship/xs_for_input/jeff-3.3-hdf5/Cr54.h5\n",
      " Reading Hf174 from /home/pablo/internship/xs_for_input/jeff-3.3-hdf5/Hf174.h5\n",
      " Reading Hf176 from /home/pablo/internship/xs_for_input/jeff-3.3-hdf5/Hf176.h5\n",
      " Reading Hf177 from /home/pablo/internship/xs_for_input/jeff-3.3-hdf5/Hf177.h5\n",
      " Reading Hf178 from /home/pablo/internship/xs_for_input/jeff-3.3-hdf5/Hf178.h5\n",
      " Reading Hf179 from /home/pablo/internship/xs_for_input/jeff-3.3-hdf5/Hf179.h5\n",
      " Reading Hf180 from /home/pablo/internship/xs_for_input/jeff-3.3-hdf5/Hf180.h5\n",
      " Reading H1 from /home/pablo/internship/xs_for_input/jeff-3.3-hdf5/H1.h5\n",
      " Reading B10 from /home/pablo/internship/xs_for_input/jeff-3.3-hdf5/B10.h5\n",
      " Reading B11 from /home/pablo/internship/xs_for_input/jeff-3.3-hdf5/B11.h5\n",
      " Reading He4 from /home/pablo/internship/xs_for_input/jeff-3.3-hdf5/He4.h5\n",
      " Reading c_H_in_H2O from\n",
      " /home/pablo/internship/xs_for_input/jeff-3.3-hdf5/c_H_in_H2O.h5\n",
      " Minimum neutron data temperature: 294 K\n",
      " Maximum neutron data temperature: 600 K\n",
      " Preparing distributed cell instances...\n",
      " Reading plot XML file...\n",
      " Writing summary.h5 file...\n",
      " Maximum neutron transport energy: 20000000 eV for Sn112\n",
      " Initializing source particles...\n",
      "\n",
      " ====================>     K EIGENVALUE SIMULATION     <====================\n",
      "\n",
      "  Bat./Gen.      k            Average k\n",
      "  =========   ========   ====================\n",
      "        1/1    1.18618\n",
      "        2/1    1.18556\n",
      "        3/1    1.17806\n",
      "        4/1    1.18503\n",
      "        5/1    1.18078\n",
      "        6/1    1.18396\n",
      "        7/1    1.18759\n",
      "        8/1    1.17651\n",
      "        9/1    1.18525\n",
      "       10/1    1.17788\n",
      "       11/1    1.19353\n",
      "       12/1    1.18945\n",
      "       13/1    1.19191\n",
      "       14/1    1.19270\n",
      "       15/1    1.18261\n",
      "       16/1    1.17795\n",
      "       17/1    1.17590\n",
      "       18/1    1.18382\n",
      "       19/1    1.18096\n",
      "       20/1    1.19578\n",
      "       21/1    1.19244\n",
      "       22/1    1.17587    1.18415 +/- 0.00828\n",
      "       23/1    1.19073    1.18634 +/- 0.00526\n",
      "       24/1    1.18852    1.18689 +/- 0.00376\n",
      "       25/1    1.17918    1.18535 +/- 0.00330\n",
      "       26/1    1.19269    1.18657 +/- 0.00296\n",
      "       27/1    1.18316    1.18608 +/- 0.00254\n",
      "       28/1    1.18027    1.18536 +/- 0.00232\n",
      "       29/1    1.17914    1.18467 +/- 0.00216\n",
      "       30/1    1.18086    1.18429 +/- 0.00197\n",
      "       31/1    1.18073    1.18396 +/- 0.00181\n",
      "       32/1    1.18206    1.18380 +/- 0.00166\n",
      "       33/1    1.18846    1.18416 +/- 0.00157\n",
      "       34/1    1.17108    1.18323 +/- 0.00173\n"
     ]
    },
    {
     "ename": "KeyboardInterrupt",
     "evalue": "",
     "output_type": "error",
     "traceback": [
      "\u001b[0;31m---------------------------------------------------------------------------\u001b[0m",
      "\u001b[0;31mKeyboardInterrupt\u001b[0m                         Traceback (most recent call last)",
      "Cell \u001b[0;32mIn[44], line 1\u001b[0m\n\u001b[0;32m----> 1\u001b[0m sp_file \u001b[38;5;241m=\u001b[39m \u001b[43mmodel\u001b[49m\u001b[38;5;241;43m.\u001b[39;49m\u001b[43mrun\u001b[49m\u001b[43m(\u001b[49m\u001b[43m)\u001b[49m\n",
      "File \u001b[0;32m~/anaconda3/envs/openmc-env/lib/python3.12/site-packages/openmc/model/model.py:711\u001b[0m, in \u001b[0;36mModel.run\u001b[0;34m(self, particles, threads, geometry_debug, restart_file, tracks, output, cwd, openmc_exec, mpi_args, event_based, export_model_xml, **export_kwargs)\u001b[0m\n\u001b[1;32m    709\u001b[0m     \u001b[38;5;28;01melse\u001b[39;00m:\n\u001b[1;32m    710\u001b[0m         \u001b[38;5;28mself\u001b[39m\u001b[38;5;241m.\u001b[39mexport_to_xml(\u001b[38;5;241m*\u001b[39m\u001b[38;5;241m*\u001b[39mexport_kwargs)\n\u001b[0;32m--> 711\u001b[0m     \u001b[43mopenmc\u001b[49m\u001b[38;5;241;43m.\u001b[39;49m\u001b[43mrun\u001b[49m\u001b[43m(\u001b[49m\u001b[43mparticles\u001b[49m\u001b[43m,\u001b[49m\u001b[43m \u001b[49m\u001b[43mthreads\u001b[49m\u001b[43m,\u001b[49m\u001b[43m \u001b[49m\u001b[43mgeometry_debug\u001b[49m\u001b[43m,\u001b[49m\u001b[43m \u001b[49m\u001b[43mrestart_file\u001b[49m\u001b[43m,\u001b[49m\n\u001b[1;32m    712\u001b[0m \u001b[43m               \u001b[49m\u001b[43mtracks\u001b[49m\u001b[43m,\u001b[49m\u001b[43m \u001b[49m\u001b[43moutput\u001b[49m\u001b[43m,\u001b[49m\u001b[43m \u001b[49m\u001b[43mPath\u001b[49m\u001b[43m(\u001b[49m\u001b[38;5;124;43m'\u001b[39;49m\u001b[38;5;124;43m.\u001b[39;49m\u001b[38;5;124;43m'\u001b[39;49m\u001b[43m)\u001b[49m\u001b[43m,\u001b[49m\u001b[43m \u001b[49m\u001b[43mopenmc_exec\u001b[49m\u001b[43m,\u001b[49m\u001b[43m \u001b[49m\u001b[43mmpi_args\u001b[49m\u001b[43m,\u001b[49m\n\u001b[1;32m    713\u001b[0m \u001b[43m               \u001b[49m\u001b[43mevent_based\u001b[49m\u001b[43m)\u001b[49m\n\u001b[1;32m    715\u001b[0m \u001b[38;5;66;03m# Get output directory and return the last statepoint written\u001b[39;00m\n\u001b[1;32m    716\u001b[0m \u001b[38;5;28;01mif\u001b[39;00m \u001b[38;5;28mself\u001b[39m\u001b[38;5;241m.\u001b[39msettings\u001b[38;5;241m.\u001b[39moutput \u001b[38;5;129;01mand\u001b[39;00m \u001b[38;5;124m'\u001b[39m\u001b[38;5;124mpath\u001b[39m\u001b[38;5;124m'\u001b[39m \u001b[38;5;129;01min\u001b[39;00m \u001b[38;5;28mself\u001b[39m\u001b[38;5;241m.\u001b[39msettings\u001b[38;5;241m.\u001b[39moutput:\n",
      "File \u001b[0;32m~/anaconda3/envs/openmc-env/lib/python3.12/site-packages/openmc/executor.py:314\u001b[0m, in \u001b[0;36mrun\u001b[0;34m(particles, threads, geometry_debug, restart_file, tracks, output, cwd, openmc_exec, mpi_args, event_based, path_input)\u001b[0m\n\u001b[1;32m    261\u001b[0m \u001b[38;5;250m\u001b[39m\u001b[38;5;124;03m\"\"\"Run an OpenMC simulation.\u001b[39;00m\n\u001b[1;32m    262\u001b[0m \n\u001b[1;32m    263\u001b[0m \u001b[38;5;124;03mParameters\u001b[39;00m\n\u001b[0;32m   (...)\u001b[0m\n\u001b[1;32m    305\u001b[0m \n\u001b[1;32m    306\u001b[0m \u001b[38;5;124;03m\"\"\"\u001b[39;00m\n\u001b[1;32m    308\u001b[0m args \u001b[38;5;241m=\u001b[39m _process_CLI_arguments(\n\u001b[1;32m    309\u001b[0m     volume\u001b[38;5;241m=\u001b[39m\u001b[38;5;28;01mFalse\u001b[39;00m, geometry_debug\u001b[38;5;241m=\u001b[39mgeometry_debug, particles\u001b[38;5;241m=\u001b[39mparticles,\n\u001b[1;32m    310\u001b[0m     restart_file\u001b[38;5;241m=\u001b[39mrestart_file, threads\u001b[38;5;241m=\u001b[39mthreads, tracks\u001b[38;5;241m=\u001b[39mtracks,\n\u001b[1;32m    311\u001b[0m     event_based\u001b[38;5;241m=\u001b[39mevent_based, openmc_exec\u001b[38;5;241m=\u001b[39mopenmc_exec, mpi_args\u001b[38;5;241m=\u001b[39mmpi_args,\n\u001b[1;32m    312\u001b[0m     path_input\u001b[38;5;241m=\u001b[39mpath_input)\n\u001b[0;32m--> 314\u001b[0m \u001b[43m_run\u001b[49m\u001b[43m(\u001b[49m\u001b[43margs\u001b[49m\u001b[43m,\u001b[49m\u001b[43m \u001b[49m\u001b[43moutput\u001b[49m\u001b[43m,\u001b[49m\u001b[43m \u001b[49m\u001b[43mcwd\u001b[49m\u001b[43m)\u001b[49m\n",
      "File \u001b[0;32m~/anaconda3/envs/openmc-env/lib/python3.12/site-packages/openmc/executor.py:104\u001b[0m, in \u001b[0;36m_run\u001b[0;34m(args, output, cwd)\u001b[0m\n\u001b[1;32m    101\u001b[0m lines \u001b[38;5;241m=\u001b[39m []\n\u001b[1;32m    102\u001b[0m \u001b[38;5;28;01mwhile\u001b[39;00m \u001b[38;5;28;01mTrue\u001b[39;00m:\n\u001b[1;32m    103\u001b[0m     \u001b[38;5;66;03m# If OpenMC is finished, break loop\u001b[39;00m\n\u001b[0;32m--> 104\u001b[0m     line \u001b[38;5;241m=\u001b[39m \u001b[43mp\u001b[49m\u001b[38;5;241;43m.\u001b[39;49m\u001b[43mstdout\u001b[49m\u001b[38;5;241;43m.\u001b[39;49m\u001b[43mreadline\u001b[49m\u001b[43m(\u001b[49m\u001b[43m)\u001b[49m\n\u001b[1;32m    105\u001b[0m     \u001b[38;5;28;01mif\u001b[39;00m \u001b[38;5;129;01mnot\u001b[39;00m line \u001b[38;5;129;01mand\u001b[39;00m p\u001b[38;5;241m.\u001b[39mpoll() \u001b[38;5;129;01mis\u001b[39;00m \u001b[38;5;129;01mnot\u001b[39;00m \u001b[38;5;28;01mNone\u001b[39;00m:\n\u001b[1;32m    106\u001b[0m         \u001b[38;5;28;01mbreak\u001b[39;00m\n",
      "\u001b[0;31mKeyboardInterrupt\u001b[0m: "
     ]
    }
   ],
   "source": [
    "sp_file = model.run()"
   ]
  },
  {
   "cell_type": "code",
   "execution_count": null,
   "id": "4fc2888f-8ce8-420a-a6d3-3a15ec022424",
   "metadata": {},
   "outputs": [],
   "source": []
  },
  {
   "cell_type": "code",
   "execution_count": null,
   "id": "699a3d5f-e8dc-4fdc-b8fc-2ba7e5aa7e2c",
   "metadata": {},
   "outputs": [],
   "source": []
  }
 ],
 "metadata": {
  "kernelspec": {
   "display_name": "Python 3 (ipykernel)",
   "language": "python",
   "name": "python3"
  },
  "language_info": {
   "codemirror_mode": {
    "name": "ipython",
    "version": 3
   },
   "file_extension": ".py",
   "mimetype": "text/x-python",
   "name": "python",
   "nbconvert_exporter": "python",
   "pygments_lexer": "ipython3",
   "version": "3.12.3"
  }
 },
 "nbformat": 4,
 "nbformat_minor": 5
}

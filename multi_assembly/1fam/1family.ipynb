{
 "cells": [
  {
   "cell_type": "markdown",
   "id": "cdd8a24a-a018-4a2b-aaed-7eae9c99a62b",
   "metadata": {},
   "source": [
    "# 3x3 assembly inputfile that: "
   ]
  },
  {
   "cell_type": "markdown",
   "id": "880099d7-f1e0-4a4f-9a03-3d4c52de6943",
   "metadata": {},
   "source": [
    "### Import module/Set up XS path/Create openMC model/Clean directory"
   ]
  },
  {
   "cell_type": "code",
   "execution_count": 40,
   "id": "e4b5e472-92fe-4d54-b9df-c70131c052a1",
   "metadata": {},
   "outputs": [],
   "source": [
    "import sys\n",
    "import os \n",
    "import openmc\n",
    "import numpy as np\n",
    "import matplotlib.pyplot as plt\n",
    "import openmc.mgxs as mgxs\n",
    "import pandas as pd\n",
    "from IPython.display import Image\n",
    "import glob"
   ]
  },
  {
   "cell_type": "markdown",
   "id": "e02f7d89-8f36-4c72-80d6-f1b53646d94e",
   "metadata": {},
   "source": [
    "### Pablo environnement"
   ]
  },
  {
   "cell_type": "code",
   "execution_count": 41,
   "id": "1e7cc449-037d-4c4f-aa2e-6f21e06bd185",
   "metadata": {},
   "outputs": [],
   "source": [
    "model=openmc.Model()\n",
    "\n",
    "clean_file_list = [\"model.xml\", \"materials.xml\", \"geometry.xml\",\"plots.xml\",\"geometry.xml\",\"settings.xml\",\"tallies.out\",\"summary.h5\",\"statepoint.50.h5\"]\n",
    "for file in clean_file_list :\n",
    "    path_file = os.path.join(os.getcwd(), file)\n",
    "    if os.path.exists(path_file):\n",
    "        os.remove(path_file)"
   ]
  },
  {
   "cell_type": "markdown",
   "id": "d759264e-22d9-45ed-9b06-58531a984021",
   "metadata": {},
   "source": [
    "### Define Materials"
   ]
  },
  {
   "cell_type": "code",
   "execution_count": 42,
   "id": "50dee80c-d7a7-49e1-99ef-5094e87b5808",
   "metadata": {},
   "outputs": [],
   "source": [
    "uo2 = openmc.Material(name='uo2')\n",
    "uo2.add_nuclide('U234', 6.11864E-06, 'ao')\n",
    "uo2.add_nuclide('U235', 7.18132E-04, 'ao')\n",
    "uo2.add_nuclide('U236', 3.29861E-06, 'ao')\n",
    "uo2.add_nuclide('U238', 2.21546E-02, 'ao')\n",
    "uo2.add_nuclide('O16', 4.57642E-02, 'ao')\n",
    "uo2.set_density('g/cm3', 10.257 )\n",
    "uo2.temperature=565\n",
    "\n",
    "zirconium = openmc.Material(name=\"zirconium\")\n",
    "zirconium.add_nuclide('Zr90', 2.18865E-02, 'ao')\n",
    "zirconium.add_nuclide('Zr91', 4.77292E-03, 'ao')\n",
    "zirconium.add_nuclide('Zr92', 7.29551E-03, 'ao')\n",
    "zirconium.add_nuclide('Zr94', 7.39335E-03, 'ao')\n",
    "zirconium.add_nuclide('Zr96', 1.19110E-03, 'ao')\n",
    "zirconium.add_nuclide('Sn112',4.68066E-06, 'ao')\n",
    "zirconium.add_nuclide('Sn114', 3.18478E-06, 'ao')\n",
    "zirconium.add_nuclide('Sn115', 1.64064E-06, 'ao')\n",
    "zirconium.add_nuclide('Sn116', 7.01616E-05, 'ao')\n",
    "zirconium.add_nuclide('Sn117', 3.70592E-05, 'ao')\n",
    "zirconium.add_nuclide('Sn118', 1.16872E-04, 'ao')\n",
    "zirconium.add_nuclide('Sn119', 4.14504E-05, 'ao')\n",
    "zirconium.add_nuclide('Sn120', 1.57212E-04, 'ao')\n",
    "zirconium.add_nuclide('Sn122', 2.23417E-05, 'ao')\n",
    "zirconium.add_nuclide('Sn124', 2.79392E-05, 'ao')\n",
    "zirconium.add_nuclide('Fe54', 8.68307E-06, 'ao')\n",
    "zirconium.add_nuclide('Fe56', 1.36306E-04, 'ao')\n",
    "zirconium.add_nuclide('Fe57', 3.14789E-06, 'ao')\n",
    "zirconium.add_nuclide('Fe58', 4.18926E-07, 'ao')\n",
    "zirconium.add_nuclide('Cr50', 3.30121E-06, 'ao')\n",
    "zirconium.add_nuclide('Cr52', 6.36606E-05, 'ao')\n",
    "zirconium.add_nuclide('Cr53', 7.21860E-06, 'ao')\n",
    "zirconium.add_nuclide('Cr54', 1.79686E-06, 'ao')\n",
    "zirconium.add_nuclide('Hf174', 3.54138E-09, 'ao')\n",
    "zirconium.add_nuclide('Hf176', 1.16423E-07, 'ao')\n",
    "zirconium.add_nuclide('Hf177', 4.11686E-07, 'ao')\n",
    "zirconium.add_nuclide('Hf178', 6.03806E-07, 'ao')\n",
    "zirconium.add_nuclide('Hf179', 3.01460E-07, 'ao')\n",
    "zirconium.add_nuclide('Hf180', 7.76449E-07, 'ao')\n",
    "zirconium.set_density('g/cm3',  6.56)\n",
    "\n",
    "water = openmc.Material(name=\"water\")\n",
    "water.add_nuclide('H1',4.96224E-02, 'ao')\n",
    "water.add_nuclide('O16', 2.48112E-02, 'ao')\n",
    "water.add_nuclide('B10', 1.07070E-05, 'ao')\n",
    "water.add_nuclide('B11', 4.30971E-05, 'ao')\n",
    "water.temperature=565\n",
    "water.set_density('g/cm3', 0.743)\n",
    "water.add_s_alpha_beta('c_H_in_H2O')\n",
    "\n",
    "helium = openmc.Material(name=\"helium\")\n",
    "helium.add_nuclide('He4',1, 'ao')\n",
    "helium.temperature=565\n",
    "helium.set_density('g/cm3', 0.178E-03 )\n",
    "\n",
    "\n",
    "model.materials = openmc.Materials([uo2, zirconium, water,helium]) \n",
    "#Perso path\n",
    "# model.materials.cross_sections = '/home/pablo/internship/xs_for_input/cross_sections.xml'\n",
    "#Mac path\n",
    "model.materials.cross_sections = '/Users/pablogarcia44/repo/endfb-vii.1-hdf5/cross_sections.xml'"
   ]
  },
  {
   "cell_type": "markdown",
   "id": "ffd5255c-47f3-4394-836f-140dddeef018",
   "metadata": {},
   "source": [
    "### Create pincell"
   ]
  },
  {
   "cell_type": "code",
   "execution_count": 43,
   "id": "d6b9097d-01da-4e73-bdf5-c201c38f570e",
   "metadata": {},
   "outputs": [],
   "source": [
    "def pincell(family):\n",
    "    fuel_outer_radius = openmc.ZCylinder(r=0.4096)\n",
    "    clad_inner_radius = openmc.ZCylinder(r=0.418)\n",
    "    clad_outer_radius = openmc.ZCylinder(r=0.475)\n",
    "    pitch = 1.26\n",
    "    left = openmc.XPlane(-pitch/2, boundary_type='transmission')\n",
    "    right = openmc.XPlane(pitch/2, boundary_type='transmission')\n",
    "    bottom = openmc.YPlane(-pitch/2, boundary_type='transmission')\n",
    "    top = openmc.YPlane(pitch/2, boundary_type='transmission')\n",
    "    fuel_region = -fuel_outer_radius\n",
    "    gap_region = +fuel_outer_radius & -clad_inner_radius\n",
    "    clad_region = +clad_inner_radius & -clad_outer_radius\n",
    "    water_region = +left & -right & +bottom & -top & +clad_outer_radius\n",
    "    fuel = openmc.Cell(name='fuel'+'_'+family)\n",
    "    fuel.fill = uo2\n",
    "    fuel.region = fuel_region\n",
    "    gap = openmc.Cell(name='gap'+'_'+family)\n",
    "    gap.region = gap_region\n",
    "    gap.fill = helium     \n",
    "    clad = openmc.Cell(name='clad'+'_'+family)\n",
    "    clad.fill = zirconium\n",
    "    clad.region = clad_region\n",
    "    moderator = openmc.Cell(name='moderator'+'_'+family)\n",
    "    moderator.fill = water\n",
    "    moderator.region = water_region \n",
    "    u = openmc.Universe(name='u'+'_'+family,cells=(fuel, clad, moderator,gap))\n",
    "    return(u,fuel,clad,moderator,gap)"
   ]
  },
  {
   "cell_type": "code",
   "execution_count": 44,
   "id": "819d0914-eb0a-410c-adcf-021ed5dbeaa0",
   "metadata": {},
   "outputs": [],
   "source": [
    "def pincell_side(family):\n",
    "    pitch = 1.26\n",
    "    left = openmc.XPlane(-pitch/2, boundary_type='transmission')\n",
    "    right = openmc.XPlane(pitch/2, boundary_type='transmission')\n",
    "    bottom = openmc.YPlane(-pitch/2, boundary_type='transmission')\n",
    "    top = openmc.YPlane(pitch/2, boundary_type='transmission')\n",
    "    water_region = +left & -right & +bottom & -top \n",
    "    moderator = openmc.Cell(name='moderator'+'_'+family)\n",
    "    moderator.fill = water\n",
    "    moderator.region = water_region \n",
    "    u = openmc.Universe(name='u'+'_'+family)\n",
    "    u.add_cell(moderator)\n",
    "    return(u,moderator)"
   ]
  },
  {
   "cell_type": "markdown",
   "id": "54553cbc-a489-4d17-985b-5d3c7427e819",
   "metadata": {},
   "source": [
    "### Create guide tube"
   ]
  },
  {
   "cell_type": "code",
   "execution_count": 45,
   "id": "5bc2f291-46b1-4d26-96cd-be3b66cbb53b",
   "metadata": {},
   "outputs": [],
   "source": [
    "def guide(family):\n",
    "    clad_inner_radius = openmc.ZCylinder(r=0.561)\n",
    "    clad_outer_radius = openmc.ZCylinder(r=0.602)\n",
    "    pitch = 1.26\n",
    "    left = openmc.XPlane(-pitch/2, boundary_type='transmission')\n",
    "    right = openmc.XPlane(pitch/2, boundary_type='transmission')\n",
    "    bottom = openmc.YPlane(-pitch/2, boundary_type='transmission')\n",
    "    top = openmc.YPlane(pitch/2, boundary_type='transmission')       \n",
    "    clad_region = +clad_inner_radius & -clad_outer_radius\n",
    "    water_region = +left & -right & +bottom & -top & +clad_outer_radius\n",
    "    water_guide_region= -clad_inner_radius\n",
    "    water_guide = openmc.Cell(name='water'+'_'+family)\n",
    "    water_guide.fill = water\n",
    "    water_guide.region = water_guide_region\n",
    "    clad = openmc.Cell(name='clad'+'_'+family)\n",
    "    clad.fill = zirconium\n",
    "    clad.region = clad_region\n",
    "    moderator = openmc.Cell(name='moderator'+'_'+family)\n",
    "    moderator.fill = water\n",
    "    moderator.region = water_region \n",
    "    u = openmc.Universe(name='u_guide'+'_'+family,cells=(water_guide, clad, moderator))\n",
    "    return(u,water_guide,water_guide,clad,moderator)"
   ]
  },
  {
   "cell_type": "markdown",
   "id": "017e1c31-c1d9-4788-92c4-07e64a565b27",
   "metadata": {},
   "source": [
    "### Create instrumentation tube"
   ]
  },
  {
   "cell_type": "code",
   "execution_count": 46,
   "id": "1c2bf85b-7a79-4917-b8a5-5fa8d0a75450",
   "metadata": {},
   "outputs": [],
   "source": [
    "def instru(family):\n",
    "    clad_inner_radius = openmc.ZCylinder(r=0.559)\n",
    "    clad_outer_radius = openmc.ZCylinder(r=0.605)\n",
    "    pitch = 1.26\n",
    "    left = openmc.XPlane(-pitch/2, boundary_type='transmission')\n",
    "    right = openmc.XPlane(pitch/2, boundary_type='transmission')\n",
    "    bottom = openmc.YPlane(-pitch/2, boundary_type='transmission')\n",
    "    top = openmc.YPlane(pitch/2, boundary_type='transmission')       \n",
    "    clad_region = +clad_inner_radius & -clad_outer_radius\n",
    "    water_region = +left & -right & +bottom & -top & +clad_outer_radius\n",
    "    water_guide_region= -clad_inner_radius\n",
    "    water_guide = openmc.Cell(name='water'+'_'+family)\n",
    "    water_guide.fill = water\n",
    "    water_guide.region = water_guide_region\n",
    "    clad = openmc.Cell(name='clad'+'_'+family)\n",
    "    clad.fill = zirconium\n",
    "    clad.region = clad_region\n",
    "    moderator = openmc.Cell(name='moderator'+'_'+family)\n",
    "    moderator.fill = water\n",
    "    moderator.region = water_region \n",
    "    u = openmc.Universe(name='u_guide'+'_'+family,cells=(water_guide, clad, moderator))\n",
    "    return(u,water_guide,water_guide,clad,moderator)"
   ]
  },
  {
   "cell_type": "markdown",
   "id": "86d220c6-2336-466d-9e9d-7bac2efe8dc0",
   "metadata": {},
   "source": [
    "### Mappping"
   ]
  },
  {
   "cell_type": "code",
   "execution_count": 47,
   "id": "d3074464-adca-4a6c-84eb-180da05339f7",
   "metadata": {},
   "outputs": [
    {
     "name": "stdout",
     "output_type": "stream",
     "text": [
      "[(3, 13), (11, 2), (11, 5), (11, 8), (2, 5), (11, 14), (2, 11), (11, 11), (2, 8), (3, 3), (8, 2), (8, 5), (8, 11), (8, 14), (13, 13), (14, 5), (14, 11), (5, 2), (14, 8), (5, 5), (5, 11), (5, 8), (5, 14), (13, 3)]\n"
     ]
    }
   ],
   "source": [
    "GT=[(5,2),(8,2),(3,3),(2,5),(5,5),(8,5),(2,8),(5,8)]\n",
    "IT=[(8,8)]\n",
    "\n",
    "GT_left=[]\n",
    "GT_full=[]\n",
    "for X in GT:\n",
    "    GT_left.append((X[0],X[1]))\n",
    "    GT_left.append((X[0],16-X[1]))\n",
    "for X in GT_left:\n",
    "    GT_full.append((X[0],X[1]))\n",
    "    GT_full.append((16-X[0],X[1]))    \n",
    "GT_full = list(set(GT_full))\n",
    "print(GT_full)"
   ]
  },
  {
   "cell_type": "markdown",
   "id": "2c8e86fc-2b33-4de2-8ab8-f425db582845",
   "metadata": {
    "jp-MarkdownHeadingCollapsed": true
   },
   "source": [
    "### Create family pincell"
   ]
  },
  {
   "cell_type": "markdown",
   "id": "6367df82-7c94-493c-b736-10a8d34cf7de",
   "metadata": {},
   "source": [
    "### Define assembly"
   ]
  },
  {
   "cell_type": "code",
   "execution_count": 48,
   "id": "95ea78ea-d3bb-4bca-913c-76f2de8cfb93",
   "metadata": {},
   "outputs": [],
   "source": [
    "pitch=1.26\n",
    "dr=0.04\n",
    "size=19\n",
    "def create_assembly(family):\n",
    "    pincell_fam=pincell(family+'_'+'pincell')\n",
    "    guide_fam=guide(family+'_'+'guide')\n",
    "    instru_fam=instru(family+'_'+'instru')\n",
    "    side_fam=pincell_side(family+'_'+'outside')\n",
    "    \n",
    "    \n",
    "    assembly = openmc.RectLattice()\n",
    "    assembly.pitch = (pitch,pitch)\n",
    "    assembly.lower_left = (-size/2*pitch, -size/2*pitch)\n",
    "    \n",
    "\n",
    "\n",
    "    A= np.empty((size, size), dtype=openmc.universe.Universe)\n",
    "\n",
    "    for ix in range(size):\n",
    "        for iy in range(size):\n",
    "            if (ix-1,iy-1) in GT_full : \n",
    "                A[ix][iy]=guide_fam[0]\n",
    "            elif ix==0 or ix==18 or iy==0 or iy==18:\n",
    "                A[ix][iy]=side_fam[0]\n",
    "            elif (ix-1,iy-1) in IT :\n",
    "                A[ix][iy]=instru_fam[0]\n",
    "            else:\n",
    "                A[ix][iy]=pincell_fam[0]    \n",
    "        \n",
    "    assembly.universes = A\n",
    "\n",
    "    \n",
    "    rod_height=385.1\n",
    "    \n",
    "    \n",
    "    assembly_cell= openmc.Cell(name='assembly_cell', fill=assembly)\n",
    "\n",
    "    assembly_universe = openmc.Universe(name='assembly_universe')\n",
    "    assembly_universe.add_cell(assembly_cell)\n",
    "    print(assembly_universe)\n",
    "    min_x = openmc.XPlane(x0=-((size-2)*pitch/2+dr), boundary_type='reflective')\n",
    "    max_x = openmc.XPlane(x0=+((size-2)*pitch/2+dr), boundary_type='reflective')\n",
    "    min_y = openmc.YPlane(y0=-((size-2)*pitch/2+dr), boundary_type='reflective')\n",
    "    max_y = openmc.YPlane(y0=+((size-2)*pitch/2+dr), boundary_type='reflective')\n",
    "    min_z = openmc.ZPlane(z0=-rod_height/2, boundary_type='reflective')\n",
    "    max_z = openmc.ZPlane(z0=+rod_height/2, boundary_type='reflective')\n",
    "    root_cell = openmc.Cell(name='root cell', fill=assembly_universe)\n",
    "    root_cell.region = +min_x & -max_x & +min_y & -max_y & +min_z & -max_z\n",
    "    root_universe = openmc.Universe(name='root universe')\n",
    "    root_universe.add_cell(root_cell)\n",
    "    return(root_universe,pincell_fam,guide_fam,instru_fam,assembly_cell)\n",
    "    \n",
    "    "
   ]
  },
  {
   "cell_type": "markdown",
   "id": "d4f75aa6-17b9-4047-a82f-d97d0ad95908",
   "metadata": {},
   "source": [
    "# dr=0.04\n",
    "# min_x = openmc.XPlane(x0=-((size-2)*pitch/2+dr), boundary_type='reflective')\n",
    "# max_x = openmc.XPlane(x0=+((size-2)*pitch/2+dr), boundary_type='reflective')\n",
    "# min_y = openmc.YPlane(y0=-((size-2)*pitch/2+dr), boundary_type='reflective')\n",
    "# max_y = openmc.YPlane(y0=+((size-2)*pitch/2+dr), boundary_type='reflective')\n",
    "# min_z = openmc.ZPlane(z0=-rod_height/2, boundary_type='reflective')\n",
    "# max_z = openmc.ZPlane(z0=+rod_height/2, boundary_type='reflective')\n",
    "\n",
    "# root_cell = openmc.Cell(name='root cell', fill=create_assembly('C')[0])\n",
    "# root_cell.region = +min_x & -max_x & +min_y & -max_y & +min_z & -max_z\n",
    "# root_universe = openmc.Universe(name='root universe')\n",
    "# root_universe.add_cell(root_cell)\n",
    "\n",
    "model.geometry.root_universe = create_assembly('C')[0]\n",
    "model.materials.export_to_xml()\n",
    "model.geometry.export_to_xml()\n",
    "plot = openmc.Plot.from_geometry(model.geometry)\n",
    "plot.pixels = (1000, 1000)\n",
    "plot.width = (pitch*20, pitch*20)\n",
    "plot.origin = (0., 0., 0)\n",
    "plot.color_by = 'cell'\n",
    "plot.to_ipython_image()"
   ]
  },
  {
   "cell_type": "code",
   "execution_count": 49,
   "id": "ad6b586b-0f37-4306-a083-f3283eb8a016",
   "metadata": {},
   "outputs": [
    {
     "name": "stdout",
     "output_type": "stream",
     "text": [
      "Universe\n",
      "\tID             =\t31\n",
      "\tName           =\tassembly_universe\n",
      "\tGeom           =\tCSG\n",
      "\tCells          =\t[53]\n",
      "\n"
     ]
    }
   ],
   "source": [
    "assembly_1fam=create_assembly('1fam')\n",
    "\n"
   ]
  },
  {
   "cell_type": "code",
   "execution_count": 50,
   "id": "7aa0f38f-c752-47db-af2e-6648a66ab0f4",
   "metadata": {},
   "outputs": [],
   "source": [
    "C_full=[(0,0),(2,2),(2,0),(0,2)]\n",
    "E_full=[(1,0),(0,1),(1,2),(2,1)]\n",
    "M_full=[(1,1)]"
   ]
  },
  {
   "cell_type": "code",
   "execution_count": 51,
   "id": "eb308585-562d-455b-ab0e-4338687a808c",
   "metadata": {
    "scrolled": true
   },
   "outputs": [],
   "source": [
    "pitch=1.26\n",
    "\n",
    "dr=0.04 # cm of water that is outside assembly\n",
    "\n",
    "\n",
    "size=17 #size of the assembly \n",
    "pitch_assembly=size*pitch+2*dr \n",
    "core = openmc.RectLattice()\n",
    "\n",
    "size_core=3\n",
    "core.pitch = (pitch_assembly,pitch_assembly)\n",
    "\n",
    "core.lower_left = (-size_core/2*pitch_assembly, -size_core/2*pitch_assembly)\n",
    "\n",
    "\n",
    "A= np.empty((size_core, size_core), dtype=openmc.universe.Universe)\n",
    "\n",
    "for ix in range(size_core):\n",
    "    for iy in range(size_core):\n",
    "        if (ix,iy) in C_full : \n",
    "            A[ix][iy]=assembly_1fam[0]\n",
    "        elif (ix,iy) in E_full :\n",
    "            A[ix][iy]=assembly_1fam[0]\n",
    "        elif (ix,iy) in M_full :\n",
    "            A[ix][iy]=assembly_1fam[0] \n",
    "\n",
    "      \n",
    "core.universes = A\n",
    "\n",
    "\n",
    "\n",
    "\n",
    "rod_height=385.1\n",
    "# 1/4 assembly\n",
    "min_x = openmc.XPlane(x0=-(size_core/2*pitch_assembly), boundary_type='reflective')\n",
    "max_x = openmc.XPlane(x0=0, boundary_type='reflective')\n",
    "min_y = openmc.YPlane(y0=0, boundary_type='reflective')\n",
    "max_y = openmc.YPlane(y0=+(size_core/2*pitch_assembly), boundary_type='reflective')\n",
    "min_z = openmc.ZPlane(z0=-rod_height/2, boundary_type='reflective')\n",
    "max_z = openmc.ZPlane(z0=+rod_height/2, boundary_type='reflective')\n",
    "\n",
    "\n",
    "root_cell = openmc.Cell(name='root cell', fill=core)\n",
    "root_cell.region = +min_x & -max_x & +min_y & -max_y & +min_z & -max_z\n",
    "\n",
    "\n",
    "\n",
    "model.geometry.root_universe = openmc.Universe(name='root universe')\n",
    "model.geometry.root_universe.add_cell(root_cell)"
   ]
  },
  {
   "cell_type": "markdown",
   "id": "de242f56-575c-4162-9850-e01d316406e4",
   "metadata": {},
   "source": [
    "### Plot"
   ]
  },
  {
   "cell_type": "markdown",
   "id": "7a36808b-2a25-413a-99a0-724fa810282a",
   "metadata": {},
   "source": [
    "model.materials.export_to_xml()\n",
    "model.geometry.export_to_xml()\n",
    "plot = openmc.Plot.from_geometry(model.geometry)\n",
    "plot.pixels = (1000, 1000)\n",
    "plot.width = (pitch_assembly*3, pitch_assembly*3)\n",
    "plot.origin = (0., 0., 0)\n",
    "plot.color_by = 'cell'\n",
    "plot.to_ipython_image()\n",
    "# print(model.geometry.get_all_material_cells().values())"
   ]
  },
  {
   "cell_type": "markdown",
   "id": "90c73240-9aae-4a8e-ab35-fbc68032fb85",
   "metadata": {},
   "source": [
    "### Choose settings"
   ]
  },
  {
   "cell_type": "code",
   "execution_count": 52,
   "id": "42b13809-e8ac-45b5-8e4d-af2f00a57694",
   "metadata": {},
   "outputs": [],
   "source": [
    "bounds = [-pitch_assembly/2, 0, -10, 0, +pitch_assembly/2, 10]\n",
    "uniform_dist = openmc.stats.Box(bounds[:3], bounds[3:], only_fissionable=True)\n",
    "source = openmc.IndependentSource(space=uniform_dist)\n",
    "source.time = openmc.stats.Uniform(0, 1e-6)\n",
    "settings = openmc.Settings()\n",
    "settings.source = source\n",
    "settings = openmc.Settings()\n",
    "settings.source = source\n",
    "settings.batches = 50\n",
    "settings.inactive = 20\n",
    "settings.particles = 50000\n",
    "settings.keff_trigger = {'type':'std_dev','threshold':0.00510}\n",
    "settings.trigger_active = True\n",
    "settings.trigger_max_batches = 50000\n",
    "settings.output = {'tallies':True}\n",
    "settings.temperature['method'] = 'interpolation'\n",
    "model.settings = settings"
   ]
  },
  {
   "cell_type": "markdown",
   "id": "709977dc-3ea8-48a7-ab09-bb9cecc54ffa",
   "metadata": {},
   "source": [
    "### Define and choose energy group"
   ]
  },
  {
   "cell_type": "code",
   "execution_count": 53,
   "id": "fbc12bc6-1180-46b2-af7e-d54c0cedb555",
   "metadata": {},
   "outputs": [],
   "source": [
    "choose_group=openmc.mgxs.GROUP_STRUCTURES['SHEM-361']\n",
    "name_group='SHEM-361'\n"
   ]
  },
  {
   "cell_type": "markdown",
   "id": "c4e87c13-a743-4039-b93c-001057d7b3af",
   "metadata": {},
   "source": [
    "### Create MGXS tallies for mgxs directory"
   ]
  },
  {
   "cell_type": "code",
   "execution_count": 54,
   "id": "a323cc06-df7d-48a6-9cf1-c79117dad6b0",
   "metadata": {},
   "outputs": [
    {
     "name": "stderr",
     "output_type": "stream",
     "text": [
      "/opt/anaconda3/envs/openmc-env/lib/python3.12/site-packages/openmc/mgxs/library.py:401: RuntimeWarning: The P0 correction will be ignored since the scattering order 3 is greater than zero\n",
      "  warn(msg, RuntimeWarning)\n"
     ]
    }
   ],
   "source": [
    "mgxs_lib = openmc.mgxs.Library(model.geometry)\n",
    "groups = openmc.mgxs.EnergyGroups(choose_group)\n",
    "mgxs_lib.energy_groups = groups\n",
    "mgxs_lib.scatter_format = \"legendre\"\n",
    "mgxs_lib.legendre_order = 3\n",
    "mgxs_lib.mgxs_types = ['total', 'absorption', 'nu-fission', 'fission' ,'chi', 'consistent nu-scatter matrix', 'multiplicity matrix','kappa-fission']\n",
    "#mgxs_lib.tally_trigger =openmc.Trigger('std_dev', 1e-2)\n",
    "mgxs_lib.by_nuclide = False\n",
    "mgxs_lib.domain_type = 'cell'\n",
    "mgxs_lib.domains = model.geometry.get_all_material_cells().values()\n",
    "mgxs_lib.build_library()\n",
    "tallies = openmc.Tallies()\n",
    "mgxs_lib.add_to_tallies_file(tallies, merge=True)\n",
    "model.tallies = tallies\n",
    "\n",
    "#model.export_to_xml()\n",
    "# model.export_to_model_xml('model_1_gap.xml')"
   ]
  },
  {
   "cell_type": "markdown",
   "id": "971540b5-5bfb-47be-86f6-9d8b80a38f27",
   "metadata": {},
   "source": [
    "### Run OpenMC model"
   ]
  },
  {
   "cell_type": "code",
   "execution_count": 55,
   "id": "4342f187-e130-495c-aaa5-744662e8215f",
   "metadata": {
    "scrolled": true
   },
   "outputs": [
    {
     "name": "stderr",
     "output_type": "stream",
     "text": [
      "/opt/anaconda3/envs/openmc-env/lib/python3.12/site-packages/openmc/mixin.py:70: IDWarning: Another Filter instance already exists with id=800.\n",
      "  warn(msg, IDWarning)\n",
      "/opt/anaconda3/envs/openmc-env/lib/python3.12/site-packages/openmc/mixin.py:70: IDWarning: Another Filter instance already exists with id=402.\n",
      "  warn(msg, IDWarning)\n",
      "/opt/anaconda3/envs/openmc-env/lib/python3.12/site-packages/openmc/mixin.py:70: IDWarning: Another Filter instance already exists with id=410.\n",
      "  warn(msg, IDWarning)\n"
     ]
    },
    {
     "name": "stdout",
     "output_type": "stream",
     "text": [
      "                                %%%%%%%%%%%%%%%\n",
      "                           %%%%%%%%%%%%%%%%%%%%%%%%\n",
      "                        %%%%%%%%%%%%%%%%%%%%%%%%%%%%%%\n",
      "                      %%%%%%%%%%%%%%%%%%%%%%%%%%%%%%%%%%\n",
      "                    %%%%%%%%%%%%%%%%%%%%%%%%%%%%%%%%%%%%%%\n",
      "                   %%%%%%%%%%%%%%%%%%%%%%%%%%%%%%%%%%%%%%%%\n",
      "                                    %%%%%%%%%%%%%%%%%%%%%%%%\n",
      "                                     %%%%%%%%%%%%%%%%%%%%%%%%\n",
      "                 ###############      %%%%%%%%%%%%%%%%%%%%%%%%\n",
      "                ##################     %%%%%%%%%%%%%%%%%%%%%%%\n",
      "                ###################     %%%%%%%%%%%%%%%%%%%%%%%\n",
      "                ####################     %%%%%%%%%%%%%%%%%%%%%%\n",
      "                #####################     %%%%%%%%%%%%%%%%%%%%%\n",
      "                ######################     %%%%%%%%%%%%%%%%%%%%\n",
      "                #######################     %%%%%%%%%%%%%%%%%%\n",
      "                 #######################     %%%%%%%%%%%%%%%%%\n",
      "                 ######################     %%%%%%%%%%%%%%%%%\n",
      "                  ####################     %%%%%%%%%%%%%%%%%\n",
      "                    #################     %%%%%%%%%%%%%%%%%\n",
      "                     ###############     %%%%%%%%%%%%%%%%\n",
      "                       ############     %%%%%%%%%%%%%%%\n",
      "                          ########     %%%%%%%%%%%%%%\n",
      "                                      %%%%%%%%%%%\n",
      "\n",
      "                 | The OpenMC Monte Carlo Code\n",
      "       Copyright | 2011-2023 MIT, UChicago Argonne LLC, and contributors\n",
      "         License | https://docs.openmc.org/en/latest/license.html\n",
      "         Version | 0.14.0\n",
      "       Date/Time | 2024-08-29 11:04:28\n",
      "  OpenMP Threads | 16\n",
      "\n",
      " Reading model XML file './model.xml' ...\n",
      " Reading cross sections XML file...\n",
      " Reading U234 from /Users/pablogarcia44/repo/endfb-vii.1-hdf5/neutron/U234.h5\n",
      " Reading U235 from /Users/pablogarcia44/repo/endfb-vii.1-hdf5/neutron/U235.h5\n",
      " Reading U236 from /Users/pablogarcia44/repo/endfb-vii.1-hdf5/neutron/U236.h5\n",
      " Reading U238 from /Users/pablogarcia44/repo/endfb-vii.1-hdf5/neutron/U238.h5\n",
      " Reading O16 from /Users/pablogarcia44/repo/endfb-vii.1-hdf5/neutron/O16.h5\n",
      " Reading Zr90 from /Users/pablogarcia44/repo/endfb-vii.1-hdf5/neutron/Zr90.h5\n",
      " Reading Zr91 from /Users/pablogarcia44/repo/endfb-vii.1-hdf5/neutron/Zr91.h5\n",
      " Reading Zr92 from /Users/pablogarcia44/repo/endfb-vii.1-hdf5/neutron/Zr92.h5\n",
      " Reading Zr94 from /Users/pablogarcia44/repo/endfb-vii.1-hdf5/neutron/Zr94.h5\n",
      " Reading Zr96 from /Users/pablogarcia44/repo/endfb-vii.1-hdf5/neutron/Zr96.h5\n",
      " Reading Sn112 from /Users/pablogarcia44/repo/endfb-vii.1-hdf5/neutron/Sn112.h5\n",
      " Reading Sn114 from /Users/pablogarcia44/repo/endfb-vii.1-hdf5/neutron/Sn114.h5\n",
      " Reading Sn115 from /Users/pablogarcia44/repo/endfb-vii.1-hdf5/neutron/Sn115.h5\n",
      " Reading Sn116 from /Users/pablogarcia44/repo/endfb-vii.1-hdf5/neutron/Sn116.h5\n",
      " Reading Sn117 from /Users/pablogarcia44/repo/endfb-vii.1-hdf5/neutron/Sn117.h5\n",
      " Reading Sn118 from /Users/pablogarcia44/repo/endfb-vii.1-hdf5/neutron/Sn118.h5\n",
      " Reading Sn119 from /Users/pablogarcia44/repo/endfb-vii.1-hdf5/neutron/Sn119.h5\n",
      " Reading Sn120 from /Users/pablogarcia44/repo/endfb-vii.1-hdf5/neutron/Sn120.h5\n",
      " Reading Sn122 from /Users/pablogarcia44/repo/endfb-vii.1-hdf5/neutron/Sn122.h5\n",
      " Reading Sn124 from /Users/pablogarcia44/repo/endfb-vii.1-hdf5/neutron/Sn124.h5\n",
      " Reading Fe54 from /Users/pablogarcia44/repo/endfb-vii.1-hdf5/neutron/Fe54.h5\n",
      " Reading Fe56 from /Users/pablogarcia44/repo/endfb-vii.1-hdf5/neutron/Fe56.h5\n",
      " Reading Fe57 from /Users/pablogarcia44/repo/endfb-vii.1-hdf5/neutron/Fe57.h5\n",
      " Reading Fe58 from /Users/pablogarcia44/repo/endfb-vii.1-hdf5/neutron/Fe58.h5\n",
      " Reading Cr50 from /Users/pablogarcia44/repo/endfb-vii.1-hdf5/neutron/Cr50.h5\n",
      " Reading Cr52 from /Users/pablogarcia44/repo/endfb-vii.1-hdf5/neutron/Cr52.h5\n",
      " Reading Cr53 from /Users/pablogarcia44/repo/endfb-vii.1-hdf5/neutron/Cr53.h5\n",
      " Reading Cr54 from /Users/pablogarcia44/repo/endfb-vii.1-hdf5/neutron/Cr54.h5\n",
      " Reading Hf174 from /Users/pablogarcia44/repo/endfb-vii.1-hdf5/neutron/Hf174.h5\n",
      " Reading Hf176 from /Users/pablogarcia44/repo/endfb-vii.1-hdf5/neutron/Hf176.h5\n",
      " Reading Hf177 from /Users/pablogarcia44/repo/endfb-vii.1-hdf5/neutron/Hf177.h5\n",
      " Reading Hf178 from /Users/pablogarcia44/repo/endfb-vii.1-hdf5/neutron/Hf178.h5\n",
      " Reading Hf179 from /Users/pablogarcia44/repo/endfb-vii.1-hdf5/neutron/Hf179.h5\n",
      " Reading Hf180 from /Users/pablogarcia44/repo/endfb-vii.1-hdf5/neutron/Hf180.h5\n",
      " Reading H1 from /Users/pablogarcia44/repo/endfb-vii.1-hdf5/neutron/H1.h5\n",
      " Reading B10 from /Users/pablogarcia44/repo/endfb-vii.1-hdf5/neutron/B10.h5\n",
      " Reading B11 from /Users/pablogarcia44/repo/endfb-vii.1-hdf5/neutron/B11.h5\n",
      " Reading He4 from /Users/pablogarcia44/repo/endfb-vii.1-hdf5/neutron/He4.h5\n",
      " Reading c_H_in_H2O from\n",
      " /Users/pablogarcia44/repo/endfb-vii.1-hdf5/neutron/c_H_in_H2O.h5\n",
      " Minimum neutron data temperature: 294 K\n",
      " Maximum neutron data temperature: 600 K\n",
      " Preparing distributed cell instances...\n",
      " Writing summary.h5 file...\n",
      " Maximum neutron transport energy: 20000000 eV for U235\n",
      " Initializing source particles...\n",
      "\n",
      " ====================>     K EIGENVALUE SIMULATION     <====================\n",
      "\n",
      "  Bat./Gen.      k            Average k\n",
      "  =========   ========   ====================\n",
      "        1/1    1.17666\n",
      "        2/1    1.18638\n",
      "        3/1    1.16492\n",
      "        4/1    1.18847\n",
      "        5/1    1.18422\n",
      "        6/1    1.18700\n",
      "        7/1    1.18297\n",
      "        8/1    1.19108\n",
      "        9/1    1.19663\n",
      "       10/1    1.18457\n",
      "       11/1    1.19022\n",
      "       12/1    1.19026\n",
      "       13/1    1.19110\n",
      "       14/1    1.18093\n",
      "       15/1    1.18232\n",
      "       16/1    1.17712\n",
      "       17/1    1.17340\n",
      "       18/1    1.18287\n",
      "       19/1    1.17175\n",
      "       20/1    1.18127\n",
      "       21/1    1.18189\n",
      "       22/1    1.18075    1.18132 +/- 0.00057\n",
      "       23/1    1.19086    1.18450 +/- 0.00320\n",
      "       24/1    1.17773    1.18281 +/- 0.00282\n",
      "       25/1    1.17275    1.18080 +/- 0.00297\n",
      "       26/1    1.17385    1.17964 +/- 0.00269\n",
      "       27/1    1.18390    1.18025 +/- 0.00235\n",
      "       28/1    1.17833    1.18001 +/- 0.00205\n",
      "       29/1    1.17377    1.17931 +/- 0.00194\n",
      "       30/1    1.18131    1.17951 +/- 0.00174\n",
      "       31/1    1.18556    1.18006 +/- 0.00167\n",
      "       32/1    1.16509    1.17882 +/- 0.00197\n",
      "       33/1    1.18460    1.17926 +/- 0.00187\n",
      "       34/1    1.17856    1.17921 +/- 0.00173\n",
      "       35/1    1.18330    1.17948 +/- 0.00163\n",
      "       36/1    1.18192    1.17964 +/- 0.00153\n",
      "       37/1    1.18863    1.18016 +/- 0.00154\n",
      "       38/1    1.17963    1.18013 +/- 0.00145\n",
      "       39/1    1.17804    1.18002 +/- 0.00137\n",
      "       40/1    1.17964    1.18001 +/- 0.00130\n",
      "       41/1    1.18763    1.18037 +/- 0.00129\n",
      "       42/1    1.17431    1.18009 +/- 0.00126\n",
      "       43/1    1.18677    1.18038 +/- 0.00124\n",
      "       44/1    1.18551    1.18060 +/- 0.00121\n",
      "       45/1    1.17792    1.18049 +/- 0.00116\n",
      "       46/1    1.18476    1.18065 +/- 0.00113\n",
      "       47/1    1.18093    1.18066 +/- 0.00109\n",
      "       48/1    1.17959    1.18063 +/- 0.00105\n",
      "       49/1    1.18576    1.18080 +/- 0.00103\n",
      "       50/1    1.17927    1.18075 +/- 0.00099\n",
      " Triggers satisfied for batch 50\n",
      " Creating state point statepoint.00050.h5...\n",
      "\n",
      " =======================>     TIMING STATISTICS     <=======================\n",
      "\n",
      " Total time for initialization     = 3.5948e+00 seconds\n",
      "   Reading cross sections          = 3.5191e+00 seconds\n",
      " Total time in simulation          = 7.3132e+01 seconds\n",
      "   Time in transport only          = 7.1926e+01 seconds\n",
      "   Time in inactive batches        = 1.7328e+01 seconds\n",
      "   Time in active batches          = 5.5804e+01 seconds\n",
      "   Time synchronizing fission bank = 1.3049e-01 seconds\n",
      "     Sampling source sites         = 1.0852e-01 seconds\n",
      "     SEND/RECV source sites        = 2.1934e-02 seconds\n",
      "   Time accumulating tallies       = 6.8160e-01 seconds\n",
      "   Time writing statepoints        = 3.3008e-01 seconds\n",
      " Total time for finalization       = 2.2448e+01 seconds\n",
      " Total time elapsed                = 9.9315e+01 seconds\n",
      " Calculation Rate (inactive)       = 57711.2 particles/second\n",
      " Calculation Rate (active)         = 26879.8 particles/second\n",
      "\n",
      " ============================>     RESULTS     <============================\n",
      "\n",
      " k-effective (Collision)     = 1.18188 +/- 0.00080\n",
      " k-effective (Track-length)  = 1.18075 +/- 0.00099\n",
      " k-effective (Absorption)    = 1.18228 +/- 0.00089\n",
      " Combined k-effective        = 1.18201 +/- 0.00071\n",
      " Leakage Fraction            = 0.00000 +/- 0.00000\n",
      "\n"
     ]
    }
   ],
   "source": [
    "sp_file = model.run()"
   ]
  },
  {
   "cell_type": "code",
   "execution_count": null,
   "id": "4fc2888f-8ce8-420a-a6d3-3a15ec022424",
   "metadata": {},
   "outputs": [],
   "source": []
  },
  {
   "cell_type": "code",
   "execution_count": null,
   "id": "699a3d5f-e8dc-4fdc-b8fc-2ba7e5aa7e2c",
   "metadata": {},
   "outputs": [],
   "source": []
  }
 ],
 "metadata": {
  "kernelspec": {
   "display_name": "Python 3 (ipykernel)",
   "language": "python",
   "name": "python3"
  },
  "language_info": {
   "codemirror_mode": {
    "name": "ipython",
    "version": 3
   },
   "file_extension": ".py",
   "mimetype": "text/x-python",
   "name": "python",
   "nbconvert_exporter": "python",
   "pygments_lexer": "ipython3",
   "version": "3.12.3"
  }
 },
 "nbformat": 4,
 "nbformat_minor": 5
}

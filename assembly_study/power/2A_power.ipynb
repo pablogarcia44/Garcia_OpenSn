{
 "cells": [
  {
   "cell_type": "markdown",
   "id": "cdd8a24a-a018-4a2b-aaed-7eae9c99a62b",
   "metadata": {},
   "source": [
    "# 3x3 assembly inputfile that: "
   ]
  },
  {
   "cell_type": "markdown",
   "id": "880099d7-f1e0-4a4f-9a03-3d4c52de6943",
   "metadata": {},
   "source": [
    "### Import module/Set up XS path/Create openMC model/Clean directory"
   ]
  },
  {
   "cell_type": "code",
   "execution_count": 130,
   "id": "e4b5e472-92fe-4d54-b9df-c70131c052a1",
   "metadata": {},
   "outputs": [],
   "source": [
    "import sys\n",
    "import os \n",
    "import openmc\n",
    "import numpy as np\n",
    "import matplotlib.pyplot as plt\n",
    "import openmc.mgxs as mgxs\n",
    "import pandas as pd\n",
    "from IPython.display import Image\n",
    "import glob"
   ]
  },
  {
   "cell_type": "markdown",
   "id": "e02f7d89-8f36-4c72-80d6-f1b53646d94e",
   "metadata": {},
   "source": [
    "### Pablo environnement"
   ]
  },
  {
   "cell_type": "code",
   "execution_count": 131,
   "id": "1e7cc449-037d-4c4f-aa2e-6f21e06bd185",
   "metadata": {},
   "outputs": [],
   "source": [
    "model=openmc.Model()\n",
    "\n",
    "clean_file_list = [\"model.xml\", \"materials.xml\", \"geometry.xml\",\"plots.xml\",\"geometry.xml\",\"settings.xml\",\"tallies.out\",\"summary.h5\",\"statepoint.50.h5\"]\n",
    "for file in clean_file_list :\n",
    "    path_file = os.path.join(os.getcwd(), file)\n",
    "    if os.path.exists(path_file):\n",
    "        os.remove(path_file)"
   ]
  },
  {
   "cell_type": "markdown",
   "id": "d759264e-22d9-45ed-9b06-58531a984021",
   "metadata": {},
   "source": [
    "### Define Materials"
   ]
  },
  {
   "cell_type": "code",
   "execution_count": 132,
   "id": "50dee80c-d7a7-49e1-99ef-5094e87b5808",
   "metadata": {},
   "outputs": [],
   "source": [
    "uo2 = openmc.Material(name='uo2')\n",
    "uo2.add_nuclide('U234', 6.11864E-06, 'ao')\n",
    "uo2.add_nuclide('U235', 7.18132E-04, 'ao')\n",
    "uo2.add_nuclide('U236', 3.29861E-06, 'ao')\n",
    "uo2.add_nuclide('U238', 2.21546E-02, 'ao')\n",
    "uo2.add_nuclide('O16', 4.57642E-02, 'ao')\n",
    "uo2.set_density('g/cm3', 10.257 )\n",
    "uo2.temperature=565\n",
    "\n",
    "zirconium = openmc.Material(name=\"zirconium\")\n",
    "zirconium.add_nuclide('Zr90', 2.18865E-02, 'ao')\n",
    "zirconium.add_nuclide('Zr91', 4.77292E-03, 'ao')\n",
    "zirconium.add_nuclide('Zr92', 7.29551E-03, 'ao')\n",
    "zirconium.add_nuclide('Zr94', 7.39335E-03, 'ao')\n",
    "zirconium.add_nuclide('Zr96', 1.19110E-03, 'ao')\n",
    "zirconium.add_nuclide('Sn112',4.68066E-06, 'ao')\n",
    "zirconium.add_nuclide('Sn114', 3.18478E-06, 'ao')\n",
    "zirconium.add_nuclide('Sn115', 1.64064E-06, 'ao')\n",
    "zirconium.add_nuclide('Sn116', 7.01616E-05, 'ao')\n",
    "zirconium.add_nuclide('Sn117', 3.70592E-05, 'ao')\n",
    "zirconium.add_nuclide('Sn118', 1.16872E-04, 'ao')\n",
    "zirconium.add_nuclide('Sn119', 4.14504E-05, 'ao')\n",
    "zirconium.add_nuclide('Sn120', 1.57212E-04, 'ao')\n",
    "zirconium.add_nuclide('Sn122', 2.23417E-05, 'ao')\n",
    "zirconium.add_nuclide('Sn124', 2.79392E-05, 'ao')\n",
    "zirconium.add_nuclide('Fe54', 8.68307E-06, 'ao')\n",
    "zirconium.add_nuclide('Fe56', 1.36306E-04, 'ao')\n",
    "zirconium.add_nuclide('Fe57', 3.14789E-06, 'ao')\n",
    "zirconium.add_nuclide('Fe58', 4.18926E-07, 'ao')\n",
    "zirconium.add_nuclide('Cr50', 3.30121E-06, 'ao')\n",
    "zirconium.add_nuclide('Cr52', 6.36606E-05, 'ao')\n",
    "zirconium.add_nuclide('Cr53', 7.21860E-06, 'ao')\n",
    "zirconium.add_nuclide('Cr54', 1.79686E-06, 'ao')\n",
    "zirconium.add_nuclide('Hf174', 3.54138E-09, 'ao')\n",
    "zirconium.add_nuclide('Hf176', 1.16423E-07, 'ao')\n",
    "zirconium.add_nuclide('Hf177', 4.11686E-07, 'ao')\n",
    "zirconium.add_nuclide('Hf178', 6.03806E-07, 'ao')\n",
    "zirconium.add_nuclide('Hf179', 3.01460E-07, 'ao')\n",
    "zirconium.add_nuclide('Hf180', 7.76449E-07, 'ao')\n",
    "zirconium.set_density('g/cm3',  6.56)\n",
    "\n",
    "water = openmc.Material(name=\"water\")\n",
    "water.add_nuclide('H1',4.96224E-02, 'ao')\n",
    "water.add_nuclide('O16', 2.48112E-02, 'ao')\n",
    "water.add_nuclide('B10', 1.07070E-05, 'ao')\n",
    "water.add_nuclide('B11', 4.30971E-05, 'ao')\n",
    "water.temperature=565\n",
    "water.set_density('g/cm3', 0.743)\n",
    "water.add_s_alpha_beta('c_H_in_H2O')\n",
    "\n",
    "helium = openmc.Material(name=\"helium\")\n",
    "helium.add_nuclide('He4',1, 'ao')\n",
    "helium.temperature=565\n",
    "helium.set_density('g/cm3', 0.178E-03 )\n",
    "\n",
    "\n",
    "model.materials = openmc.Materials([uo2, zirconium, water,helium]) \n",
    "#Perso path\n",
    "#model.materials.cross_sections = '/home/pablo/internship/xs_for_input/cross_sections.xml'\n",
    "#Mac path\n",
    "model.materials.cross_sections = '/Users/pablogarcia44/repo/endfb-vii.1-hdf5/cross_sections.xml'"
   ]
  },
  {
   "cell_type": "markdown",
   "id": "ffd5255c-47f3-4394-836f-140dddeef018",
   "metadata": {},
   "source": [
    "### Create pincell"
   ]
  },
  {
   "cell_type": "code",
   "execution_count": 133,
   "id": "d6b9097d-01da-4e73-bdf5-c201c38f570e",
   "metadata": {},
   "outputs": [],
   "source": [
    "def pincell(family):\n",
    "    fuel_outer_radius = openmc.ZCylinder(r=0.4096)\n",
    "    clad_inner_radius = openmc.ZCylinder(r=0.418)\n",
    "    clad_outer_radius = openmc.ZCylinder(r=0.475)\n",
    "    pitch = 1.26\n",
    "    left = openmc.XPlane(-pitch/2, boundary_type='transmission')\n",
    "    right = openmc.XPlane(pitch/2, boundary_type='transmission')\n",
    "    bottom = openmc.YPlane(-pitch/2, boundary_type='transmission')\n",
    "    top = openmc.YPlane(pitch/2, boundary_type='transmission')\n",
    "    fuel_region = -fuel_outer_radius\n",
    "    gap_region = +fuel_outer_radius & -clad_inner_radius\n",
    "    clad_region = +clad_inner_radius & -clad_outer_radius\n",
    "    water_region = +left & -right & +bottom & -top & +clad_outer_radius\n",
    "    fuel = openmc.Cell(name='fuel'+'_'+family)\n",
    "    fuel.fill = uo2\n",
    "    fuel.region = fuel_region\n",
    "    gap = openmc.Cell(name='gap'+'_'+family)\n",
    "    gap.region = gap_region\n",
    "    gap.fill = helium     \n",
    "    clad = openmc.Cell(name='clad'+'_'+family)\n",
    "    clad.fill = zirconium\n",
    "    clad.region = clad_region\n",
    "    moderator = openmc.Cell(name='moderator'+'_'+family)\n",
    "    moderator.fill = water\n",
    "    moderator.region = water_region \n",
    "    u = openmc.Universe(name='u'+'_'+family,cells=(fuel, clad, moderator,gap))\n",
    "    return(u,fuel,clad,moderator,gap)"
   ]
  },
  {
   "cell_type": "markdown",
   "id": "54553cbc-a489-4d17-985b-5d3c7427e819",
   "metadata": {},
   "source": [
    "### Create guide tube"
   ]
  },
  {
   "cell_type": "code",
   "execution_count": 134,
   "id": "5bc2f291-46b1-4d26-96cd-be3b66cbb53b",
   "metadata": {},
   "outputs": [],
   "source": [
    "def guide(family):\n",
    "    clad_inner_radius = openmc.ZCylinder(r=0.561)\n",
    "    clad_outer_radius = openmc.ZCylinder(r=0.602)\n",
    "    pitch = 1.26\n",
    "    left = openmc.XPlane(-pitch/2, boundary_type='transmission')\n",
    "    right = openmc.XPlane(pitch/2, boundary_type='transmission')\n",
    "    bottom = openmc.YPlane(-pitch/2, boundary_type='transmission')\n",
    "    top = openmc.YPlane(pitch/2, boundary_type='transmission')       \n",
    "    clad_region = +clad_inner_radius & -clad_outer_radius\n",
    "    water_region = +left & -right & +bottom & -top & +clad_outer_radius\n",
    "    water_guide_region= -clad_inner_radius\n",
    "    water_guide = openmc.Cell(name='water'+'_'+family)\n",
    "    water_guide.fill = water\n",
    "    water_guide.region = water_guide_region\n",
    "    clad = openmc.Cell(name='clad'+'_'+family)\n",
    "    clad.fill = zirconium\n",
    "    clad.region = clad_region\n",
    "    moderator = openmc.Cell(name='moderator'+'_'+family)\n",
    "    moderator.fill = water\n",
    "    moderator.region = water_region \n",
    "    u = openmc.Universe(name='u_guide'+'_'+family,cells=(water_guide, clad, moderator))\n",
    "    return(u,water_guide,water_guide,clad,moderator)"
   ]
  },
  {
   "cell_type": "markdown",
   "id": "017e1c31-c1d9-4788-92c4-07e64a565b27",
   "metadata": {},
   "source": [
    "### Create instrumentation tube"
   ]
  },
  {
   "cell_type": "code",
   "execution_count": 135,
   "id": "1c2bf85b-7a79-4917-b8a5-5fa8d0a75450",
   "metadata": {},
   "outputs": [],
   "source": [
    "def instru(family):\n",
    "    clad_inner_radius = openmc.ZCylinder(r=0.559)\n",
    "    clad_outer_radius = openmc.ZCylinder(r=0.605)\n",
    "    pitch = 1.26\n",
    "    left = openmc.XPlane(-pitch/2, boundary_type='transmission')\n",
    "    right = openmc.XPlane(pitch/2, boundary_type='transmission')\n",
    "    bottom = openmc.YPlane(-pitch/2, boundary_type='transmission')\n",
    "    top = openmc.YPlane(pitch/2, boundary_type='transmission')       \n",
    "    clad_region = +clad_inner_radius & -clad_outer_radius\n",
    "    water_region = +left & -right & +bottom & -top & +clad_outer_radius\n",
    "    water_guide_region= -clad_inner_radius\n",
    "    water_guide = openmc.Cell(name='water'+'_'+family)\n",
    "    water_guide.fill = water\n",
    "    water_guide.region = water_guide_region\n",
    "    clad = openmc.Cell(name='clad'+'_'+family)\n",
    "    clad.fill = zirconium\n",
    "    clad.region = clad_region\n",
    "    moderator = openmc.Cell(name='moderator'+'_'+family)\n",
    "    moderator.fill = water\n",
    "    moderator.region = water_region \n",
    "    u = openmc.Universe(name='u_guide'+'_'+family,cells=(water_guide, clad, moderator))\n",
    "    return(u,water_guide,water_guide,clad,moderator)"
   ]
  },
  {
   "cell_type": "markdown",
   "id": "86d220c6-2336-466d-9e9d-7bac2efe8dc0",
   "metadata": {},
   "source": [
    "### Mappping"
   ]
  },
  {
   "cell_type": "code",
   "execution_count": 136,
   "id": "d3074464-adca-4a6c-84eb-180da05339f7",
   "metadata": {},
   "outputs": [],
   "source": [
    "GT=[(5,2),(8,2),(3,3),(2,5),(5,5),(8,5),(2,8),(5,8)]\n",
    "IT=[(8,8)]\n",
    "\n",
    "GT_left=[]\n",
    "GT_full=[]\n",
    "for X in GT:\n",
    "    GT_left.append((X[0],X[1]))\n",
    "    GT_left.append((X[0],16-X[1]))\n",
    "for X in GT_left:\n",
    "    GT_full.append((X[0],X[1]))\n",
    "    GT_full.append((16-X[0],X[1]))    \n",
    "GT_full = list(set(GT_full))\n",
    "# print(np.array(GT_full)+(1,1))"
   ]
  },
  {
   "cell_type": "markdown",
   "id": "2c8e86fc-2b33-4de2-8ab8-f425db582845",
   "metadata": {},
   "source": [
    "### Create family pincell"
   ]
  },
  {
   "cell_type": "code",
   "execution_count": 137,
   "id": "95349ece-045e-4281-946f-c1adca454682",
   "metadata": {},
   "outputs": [],
   "source": [
    "pincell_1_family=pincell('pincell')\n",
    "guide_1_family=guide('guide')\n",
    "instru_1_family=guide('instru')"
   ]
  },
  {
   "cell_type": "markdown",
   "id": "6367df82-7c94-493c-b736-10a8d34cf7de",
   "metadata": {},
   "source": [
    "### Define assembly"
   ]
  },
  {
   "cell_type": "code",
   "execution_count": 138,
   "id": "f4ed7020-661c-42ed-8772-7786f6d55470",
   "metadata": {},
   "outputs": [],
   "source": [
    "assembly = openmc.RectLattice()\n",
    "pitch=1.26\n",
    "\n",
    "dr=0.04 # cm of water that is outside assembly\n",
    "\n",
    "\n",
    "size=17 #size of the assembly \n",
    "pitch_assembly=size*pitch+2*dr \n",
    "assembly.pitch = (pitch,pitch)\n",
    "\n",
    "assembly.lower_left = (-size/2*pitch, -size/2*pitch)\n",
    "\n",
    "\n",
    "A= np.empty((size, size), dtype=openmc.universe.Universe)\n",
    "\n",
    "for ix in range(size):\n",
    "    for iy in range(size):\n",
    "        if (ix,iy) in GT_full : \n",
    "            A[ix][iy]=guide_1_family[0]\n",
    "        elif (ix,iy) in IT :\n",
    "            A[ix][iy]=instru_1_family[0]\n",
    "        else:\n",
    "            A[ix][iy]=pincell_1_family[0]    \n",
    "\n",
    "# print(A)           \n",
    "            \n",
    "            \n",
    "\n",
    "        \n",
    "assembly.universes = A\n",
    "\n",
    "moderator_outside = openmc.Cell(name='water_outside')\n",
    "moderator_outside.fill = water\n",
    "all_water = openmc.Universe()\n",
    "all_water.add_cell(moderator_outside)\n",
    "assembly.outer=all_water\n",
    "\n",
    "rod_height=385.1\n",
    "# 1/4 assembly\n",
    "min_x = openmc.XPlane(x0=-(size/2*pitch+dr), boundary_type='reflective')\n",
    "max_x = openmc.XPlane(x0=0, boundary_type='reflective')\n",
    "min_y = openmc.YPlane(y0=0, boundary_type='reflective')\n",
    "max_y = openmc.YPlane(y0=+(size/2*pitch+dr), boundary_type='reflective')\n",
    "min_z = openmc.ZPlane(z0=-rod_height/2, boundary_type='reflective')\n",
    "max_z = openmc.ZPlane(z0=+rod_height/2, boundary_type='reflective')\n",
    "\n",
    "\n",
    "root_cell = openmc.Cell(name='root cell', fill=assembly)\n",
    "root_cell.region = +min_x & -max_x & +min_y & -max_y & +min_z & -max_z\n",
    "\n",
    "model.geometry.root_universe = openmc.Universe(name='root universe')\n",
    "model.geometry.root_universe.add_cell(root_cell)"
   ]
  },
  {
   "cell_type": "markdown",
   "id": "de242f56-575c-4162-9850-e01d316406e4",
   "metadata": {},
   "source": [
    "### Plot"
   ]
  },
  {
   "cell_type": "markdown",
   "id": "f8e4b370-3bab-4477-bfc5-20381b78d4d3",
   "metadata": {},
   "source": [
    "model.materials.export_to_xml()\n",
    "model.geometry.export_to_xml()\n",
    "plot = openmc.Plot.from_geometry(model.geometry)\n",
    "plot.pixels = (500, 500)\n",
    "plot.width = (pitch_assembly+dr, pitch_assembly+dr)\n",
    "plot.origin = (0., 0., 0)\n",
    "plot.color_by = 'cell'\n",
    "plots.append(plot)\n",
    "model.plots=openmc.Plots(plots)\n",
    "#plot.to_ipython_image(openmc_exec='openmc', cwd='/Users/pablogarcia44/repo/perso/openmc/17x17_assembly/vera')"
   ]
  },
  {
   "cell_type": "markdown",
   "id": "90c73240-9aae-4a8e-ab35-fbc68032fb85",
   "metadata": {},
   "source": [
    "### Choose settings"
   ]
  },
  {
   "cell_type": "code",
   "execution_count": 139,
   "id": "42b13809-e8ac-45b5-8e4d-af2f00a57694",
   "metadata": {},
   "outputs": [],
   "source": [
    "bounds = [-pitch_assembly/2, 0, -10, 0, +pitch_assembly/2, 10]\n",
    "uniform_dist = openmc.stats.Box(bounds[:3], bounds[3:], only_fissionable=True)\n",
    "source = openmc.IndependentSource(space=uniform_dist)\n",
    "source.time = openmc.stats.Uniform(0, 1e-6)\n",
    "settings = openmc.Settings()\n",
    "settings.source = source\n",
    "settings = openmc.Settings()\n",
    "settings.source = source\n",
    "settings.batches = 20\n",
    "settings.inactive = 10\n",
    "settings.particles = 50000\n",
    "settings.keff_trigger = {'type':'std_dev','threshold':0.00110}\n",
    "settings.trigger_active = True\n",
    "settings.trigger_max_batches = 50000\n",
    "settings.output = {'tallies':True}\n",
    "settings.temperature['method'] = 'interpolation'\n",
    "model.settings = settings"
   ]
  },
  {
   "cell_type": "markdown",
   "id": "709977dc-3ea8-48a7-ab09-bb9cecc54ffa",
   "metadata": {},
   "source": [
    "### Define and choose energy group"
   ]
  },
  {
   "cell_type": "code",
   "execution_count": 140,
   "id": "fbc12bc6-1180-46b2-af7e-d54c0cedb555",
   "metadata": {},
   "outputs": [],
   "source": [
    "choose_group=openmc.mgxs.GROUP_STRUCTURES['SHEM-361']\n",
    "name_group='SHEM-361'\n"
   ]
  },
  {
   "cell_type": "markdown",
   "id": "c4e87c13-a743-4039-b93c-001057d7b3af",
   "metadata": {},
   "source": [
    "### Create MGXS tallies for mgxs directory"
   ]
  },
  {
   "cell_type": "markdown",
   "id": "415574a9-20b6-4b9c-a93b-178d5db7a8d9",
   "metadata": {},
   "source": [
    "mgxs_lib = openmc.mgxs.Library(model.geometry)\n",
    "groups = openmc.mgxs.EnergyGroups(choose_group)\n",
    "mgxs_lib.energy_groups = groups\n",
    "mgxs_lib.scatter_format = \"legendre\"\n",
    "mgxs_lib.legendre_order = 3\n",
    "mgxs_lib.mgxs_types = ['total', 'absorption', 'nu-fission', 'fission' ,'chi', 'consistent nu-scatter matrix', 'multiplicity matrix','kappa-fission']\n",
    "#mgxs_lib.tally_trigger =openmc.Trigger('std_dev', 1e-2)\n",
    "mgxs_lib.by_nuclide = False\n",
    "mgxs_lib.domain_type = 'cell'\n",
    "mgxs_lib.domains = model.geometry.get_all_material_cells().values()\n",
    "mgxs_lib.build_library()\n",
    "tallies = openmc.Tallies()\n",
    "mgxs_lib.add_to_tallies_file(tallies, merge=True)\n",
    "\n",
    "#model.export_to_xml()\n",
    "# model.export_to_model_xml('model_1_gap.xml')"
   ]
  },
  {
   "cell_type": "markdown",
   "id": "266c262d-20ac-4969-9a7c-98a8a6d7efb7",
   "metadata": {},
   "source": [
    "### Tally power"
   ]
  },
  {
   "cell_type": "code",
   "execution_count": 155,
   "id": "78d21546-ab0f-49c7-9afb-18585cb31084",
   "metadata": {},
   "outputs": [],
   "source": [
    "tally_power = openmc.Tally(name='power')\n",
    "\n",
    "\n",
    "# Instantiate a tally Mesh\n",
    "mesh = openmc.RegularMesh()\n",
    "mesh._dimension = [17, 17]\n",
    "mesh._lower_left = [-10.71, -10.71]\n",
    "mesh._upper_right = [+10.71, +10.71]\n",
    "\n",
    "\n",
    "# Instantiate tally Filter\n",
    "mesh_filter = openmc.MeshFilter(mesh)\n",
    "\n",
    "\n",
    "tally_power.scores = ['fission', 'nu-fission', 'kappa-fission']\n",
    "tally_power.filters = [mesh_filter]\n",
    "\n",
    "\n",
    "tallies = openmc.Tallies([tally_power])\n",
    "model.tallies=tallies\n"
   ]
  },
  {
   "cell_type": "markdown",
   "id": "971540b5-5bfb-47be-86f6-9d8b80a38f27",
   "metadata": {},
   "source": [
    "### Run OpenMC model"
   ]
  },
  {
   "cell_type": "code",
   "execution_count": 156,
   "id": "4342f187-e130-495c-aaa5-744662e8215f",
   "metadata": {
    "scrolled": true
   },
   "outputs": [
    {
     "name": "stdout",
     "output_type": "stream",
     "text": [
      "                                %%%%%%%%%%%%%%%\n",
      "                           %%%%%%%%%%%%%%%%%%%%%%%%\n",
      "                        %%%%%%%%%%%%%%%%%%%%%%%%%%%%%%\n",
      "                      %%%%%%%%%%%%%%%%%%%%%%%%%%%%%%%%%%\n",
      "                    %%%%%%%%%%%%%%%%%%%%%%%%%%%%%%%%%%%%%%\n",
      "                   %%%%%%%%%%%%%%%%%%%%%%%%%%%%%%%%%%%%%%%%\n",
      "                                    %%%%%%%%%%%%%%%%%%%%%%%%\n",
      "                                     %%%%%%%%%%%%%%%%%%%%%%%%\n",
      "                 ###############      %%%%%%%%%%%%%%%%%%%%%%%%\n",
      "                ##################     %%%%%%%%%%%%%%%%%%%%%%%\n",
      "                ###################     %%%%%%%%%%%%%%%%%%%%%%%\n",
      "                ####################     %%%%%%%%%%%%%%%%%%%%%%\n",
      "                #####################     %%%%%%%%%%%%%%%%%%%%%\n",
      "                ######################     %%%%%%%%%%%%%%%%%%%%\n",
      "                #######################     %%%%%%%%%%%%%%%%%%\n",
      "                 #######################     %%%%%%%%%%%%%%%%%\n",
      "                 ######################     %%%%%%%%%%%%%%%%%\n",
      "                  ####################     %%%%%%%%%%%%%%%%%\n",
      "                    #################     %%%%%%%%%%%%%%%%%\n",
      "                     ###############     %%%%%%%%%%%%%%%%\n",
      "                       ############     %%%%%%%%%%%%%%%\n",
      "                          ########     %%%%%%%%%%%%%%\n",
      "                                      %%%%%%%%%%%\n",
      "\n",
      "                 | The OpenMC Monte Carlo Code\n",
      "       Copyright | 2011-2023 MIT, UChicago Argonne LLC, and contributors\n",
      "         License | https://docs.openmc.org/en/latest/license.html\n",
      "         Version | 0.14.0\n",
      "       Date/Time | 2024-08-06 17:07:50\n",
      "  OpenMP Threads | 16\n",
      "\n",
      " Reading model XML file './model.xml' ...\n",
      " Reading cross sections XML file...\n",
      " Reading U234 from /Users/pablogarcia44/repo/endfb-vii.1-hdf5/neutron/U234.h5\n",
      " Reading U235 from /Users/pablogarcia44/repo/endfb-vii.1-hdf5/neutron/U235.h5\n",
      " Reading U236 from /Users/pablogarcia44/repo/endfb-vii.1-hdf5/neutron/U236.h5\n",
      " Reading U238 from /Users/pablogarcia44/repo/endfb-vii.1-hdf5/neutron/U238.h5\n",
      " Reading O16 from /Users/pablogarcia44/repo/endfb-vii.1-hdf5/neutron/O16.h5\n",
      " Reading Zr90 from /Users/pablogarcia44/repo/endfb-vii.1-hdf5/neutron/Zr90.h5\n",
      " Reading Zr91 from /Users/pablogarcia44/repo/endfb-vii.1-hdf5/neutron/Zr91.h5\n",
      " Reading Zr92 from /Users/pablogarcia44/repo/endfb-vii.1-hdf5/neutron/Zr92.h5\n",
      " Reading Zr94 from /Users/pablogarcia44/repo/endfb-vii.1-hdf5/neutron/Zr94.h5\n",
      " Reading Zr96 from /Users/pablogarcia44/repo/endfb-vii.1-hdf5/neutron/Zr96.h5\n",
      " Reading Sn112 from /Users/pablogarcia44/repo/endfb-vii.1-hdf5/neutron/Sn112.h5\n",
      " Reading Sn114 from /Users/pablogarcia44/repo/endfb-vii.1-hdf5/neutron/Sn114.h5\n",
      " Reading Sn115 from /Users/pablogarcia44/repo/endfb-vii.1-hdf5/neutron/Sn115.h5\n",
      " Reading Sn116 from /Users/pablogarcia44/repo/endfb-vii.1-hdf5/neutron/Sn116.h5\n",
      " Reading Sn117 from /Users/pablogarcia44/repo/endfb-vii.1-hdf5/neutron/Sn117.h5\n",
      " Reading Sn118 from /Users/pablogarcia44/repo/endfb-vii.1-hdf5/neutron/Sn118.h5\n",
      " Reading Sn119 from /Users/pablogarcia44/repo/endfb-vii.1-hdf5/neutron/Sn119.h5\n",
      " Reading Sn120 from /Users/pablogarcia44/repo/endfb-vii.1-hdf5/neutron/Sn120.h5\n",
      " Reading Sn122 from /Users/pablogarcia44/repo/endfb-vii.1-hdf5/neutron/Sn122.h5\n",
      " Reading Sn124 from /Users/pablogarcia44/repo/endfb-vii.1-hdf5/neutron/Sn124.h5\n",
      " Reading Fe54 from /Users/pablogarcia44/repo/endfb-vii.1-hdf5/neutron/Fe54.h5\n",
      " Reading Fe56 from /Users/pablogarcia44/repo/endfb-vii.1-hdf5/neutron/Fe56.h5\n",
      " Reading Fe57 from /Users/pablogarcia44/repo/endfb-vii.1-hdf5/neutron/Fe57.h5\n",
      " Reading Fe58 from /Users/pablogarcia44/repo/endfb-vii.1-hdf5/neutron/Fe58.h5\n",
      " Reading Cr50 from /Users/pablogarcia44/repo/endfb-vii.1-hdf5/neutron/Cr50.h5\n",
      " Reading Cr52 from /Users/pablogarcia44/repo/endfb-vii.1-hdf5/neutron/Cr52.h5\n",
      " Reading Cr53 from /Users/pablogarcia44/repo/endfb-vii.1-hdf5/neutron/Cr53.h5\n",
      " Reading Cr54 from /Users/pablogarcia44/repo/endfb-vii.1-hdf5/neutron/Cr54.h5\n",
      " Reading Hf174 from /Users/pablogarcia44/repo/endfb-vii.1-hdf5/neutron/Hf174.h5\n",
      " Reading Hf176 from /Users/pablogarcia44/repo/endfb-vii.1-hdf5/neutron/Hf176.h5\n",
      " Reading Hf177 from /Users/pablogarcia44/repo/endfb-vii.1-hdf5/neutron/Hf177.h5\n",
      " Reading Hf178 from /Users/pablogarcia44/repo/endfb-vii.1-hdf5/neutron/Hf178.h5\n",
      " Reading Hf179 from /Users/pablogarcia44/repo/endfb-vii.1-hdf5/neutron/Hf179.h5\n",
      " Reading Hf180 from /Users/pablogarcia44/repo/endfb-vii.1-hdf5/neutron/Hf180.h5\n",
      " Reading H1 from /Users/pablogarcia44/repo/endfb-vii.1-hdf5/neutron/H1.h5\n",
      " Reading B10 from /Users/pablogarcia44/repo/endfb-vii.1-hdf5/neutron/B10.h5\n",
      " Reading B11 from /Users/pablogarcia44/repo/endfb-vii.1-hdf5/neutron/B11.h5\n",
      " Reading He4 from /Users/pablogarcia44/repo/endfb-vii.1-hdf5/neutron/He4.h5\n",
      " Reading c_H_in_H2O from\n",
      " /Users/pablogarcia44/repo/endfb-vii.1-hdf5/neutron/c_H_in_H2O.h5\n",
      " Minimum neutron data temperature: 294 K\n",
      " Maximum neutron data temperature: 600 K\n",
      " Preparing distributed cell instances...\n",
      " Writing summary.h5 file...\n",
      " Maximum neutron transport energy: 20000000 eV for U235\n",
      " Initializing source particles...\n",
      "\n",
      " ====================>     K EIGENVALUE SIMULATION     <====================\n",
      "\n",
      "  Bat./Gen.      k            Average k\n",
      "  =========   ========   ====================\n",
      "        1/1    1.18967\n",
      "        2/1    1.18628\n",
      "        3/1    1.18509\n",
      "        4/1    1.17817\n",
      "        5/1    1.17332\n",
      "        6/1    1.18230\n",
      "        7/1    1.18345\n",
      "        8/1    1.17559\n",
      "        9/1    1.18950\n",
      "       10/1    1.18513\n",
      "       11/1    1.18123\n",
      "       12/1    1.18163    1.18143 +/- 0.00020\n",
      "       13/1    1.17551    1.17946 +/- 0.00197\n",
      "       14/1    1.17080    1.17729 +/- 0.00258\n",
      "       15/1    1.18036    1.17791 +/- 0.00209\n",
      "       16/1    1.18610    1.17927 +/- 0.00218\n",
      "       17/1    1.17453    1.17859 +/- 0.00197\n",
      "       18/1    1.17536    1.17819 +/- 0.00175\n",
      "       19/1    1.18606    1.17906 +/- 0.00177\n",
      "       20/1    1.18893    1.18005 +/- 0.00187\n",
      " Triggers unsatisfied, max unc./thresh. is 1.4180186280055844 for eigenvalue\n",
      " The estimated number of batches is 31\n",
      " Creating state point statepoint.00020.h5...\n",
      "       21/1    1.17956    1.18001 +/- 0.00169\n",
      " Triggers unsatisfied, max unc./thresh. is 1.2943205120211025 for eigenvalue\n",
      " The estimated number of batches is 29\n",
      "       22/1    1.17992    1.18000 +/- 0.00154\n",
      " Triggers unsatisfied, max unc./thresh. is 1.1120417852836135 for eigenvalue\n",
      " The estimated number of batches is 25\n",
      "       23/1    1.18465    1.18036 +/- 0.00146\n",
      " Triggers unsatisfied, max unc./thresh. is 1.0134459853846538 for eigenvalue\n",
      " The estimated number of batches is 24\n",
      "       24/1    1.17904    1.18026 +/- 0.00136\n",
      " Triggers satisfied for batch 24\n",
      " Creating state point statepoint.00024.h5...\n",
      "\n",
      " =======================>     TIMING STATISTICS     <=======================\n",
      "\n",
      " Total time for initialization     = 3.4297e+00 seconds\n",
      "   Reading cross sections          = 3.3593e+00 seconds\n",
      " Total time in simulation          = 1.9438e+01 seconds\n",
      "   Time in transport only          = 1.9338e+01 seconds\n",
      "   Time in inactive batches        = 6.7350e+00 seconds\n",
      "   Time in active batches          = 1.2703e+01 seconds\n",
      "   Time synchronizing fission bank = 5.8421e-02 seconds\n",
      "     Sampling source sites         = 4.9143e-02 seconds\n",
      "     SEND/RECV source sites        = 9.2621e-03 seconds\n",
      "   Time accumulating tallies       = 6.6822e-04 seconds\n",
      "   Time writing statepoints        = 1.2996e-02 seconds\n",
      " Total time for finalization       = 1.4161e-03 seconds\n",
      " Total time elapsed                = 2.2908e+01 seconds\n",
      " Calculation Rate (inactive)       = 74239.3 particles/second\n",
      " Calculation Rate (active)         = 55105.6 particles/second\n",
      "\n",
      " ============================>     RESULTS     <============================\n",
      "\n",
      " k-effective (Collision)     = 1.18231 +/- 0.00131\n",
      " k-effective (Track-length)  = 1.18026 +/- 0.00136\n",
      " k-effective (Absorption)    = 1.18224 +/- 0.00147\n",
      " Combined k-effective        = 1.18107 +/- 0.00106\n",
      " Leakage Fraction            = 0.00000 +/- 0.00000\n",
      "\n"
     ]
    }
   ],
   "source": [
    "sp_file = model.run()"
   ]
  },
  {
   "cell_type": "code",
   "execution_count": 157,
   "id": "4fc2888f-8ce8-420a-a6d3-3a15ec022424",
   "metadata": {},
   "outputs": [
    {
     "ename": "AttributeError",
     "evalue": "'PosixPath' object has no attribute 'tallies'",
     "output_type": "error",
     "traceback": [
      "\u001b[0;31m---------------------------------------------------------------------------\u001b[0m",
      "\u001b[0;31mAttributeError\u001b[0m                            Traceback (most recent call last)",
      "Cell \u001b[0;32mIn[157], line 1\u001b[0m\n\u001b[0;32m----> 1\u001b[0m \u001b[43msp_file\u001b[49m\u001b[38;5;241;43m.\u001b[39;49m\u001b[43mtallies\u001b[49m\n",
      "\u001b[0;31mAttributeError\u001b[0m: 'PosixPath' object has no attribute 'tallies'"
     ]
    }
   ],
   "source": [
    "sp_file.tallies"
   ]
  },
  {
   "cell_type": "code",
   "execution_count": null,
   "id": "cbf07b8d-f5f7-4bef-b104-d814496334cc",
   "metadata": {},
   "outputs": [],
   "source": []
  }
 ],
 "metadata": {
  "kernelspec": {
   "display_name": "Python 3 (ipykernel)",
   "language": "python",
   "name": "python3"
  },
  "language_info": {
   "codemirror_mode": {
    "name": "ipython",
    "version": 3
   },
   "file_extension": ".py",
   "mimetype": "text/x-python",
   "name": "python",
   "nbconvert_exporter": "python",
   "pygments_lexer": "ipython3",
   "version": "3.12.3"
  }
 },
 "nbformat": 4,
 "nbformat_minor": 5
}
